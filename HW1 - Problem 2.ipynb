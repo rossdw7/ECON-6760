{
 "cells": [
  {
   "cell_type": "code",
   "execution_count": 1,
   "id": "8f76ca05",
   "metadata": {},
   "outputs": [
    {
     "name": "stdout",
     "output_type": "stream",
     "text": [
      "C:\\Users\\rossd\\OneDrive\\Documents\\UGA MSBA\\Spring 2022\\ECON 6760\n"
     ]
    }
   ],
   "source": [
    "%cd \"C:\\Users\\rossd\\OneDrive\\Documents\\UGA MSBA\\Spring 2022\\ECON 6760\""
   ]
  },
  {
   "cell_type": "code",
   "execution_count": 2,
   "id": "a467e15c",
   "metadata": {},
   "outputs": [],
   "source": [
    "import pandas_datareader as pdr\n",
    "import pandas as pd\n",
    "import datetime\n",
    "import numpy as np\n",
    "import math\n",
    "import matplotlib.pyplot as plt"
   ]
  },
  {
   "cell_type": "markdown",
   "id": "cac045e8",
   "metadata": {},
   "source": [
    "## Problem 2"
   ]
  },
  {
   "cell_type": "markdown",
   "id": "58d356de",
   "metadata": {},
   "source": [
    "### (a)"
   ]
  },
  {
   "cell_type": "code",
   "execution_count": 3,
   "id": "485df44f",
   "metadata": {},
   "outputs": [],
   "source": [
    "start = datetime.datetime (1950, 1, 1)\n",
    "end = datetime.datetime (2022, 1, 1)\n",
    "\n",
    "fred = pdr.DataReader(['CPIAUCSL'], 'fred', start, end)"
   ]
  },
  {
   "cell_type": "code",
   "execution_count": 4,
   "id": "932ec8ab",
   "metadata": {},
   "outputs": [
    {
     "data": {
      "text/html": [
       "<div>\n",
       "<style scoped>\n",
       "    .dataframe tbody tr th:only-of-type {\n",
       "        vertical-align: middle;\n",
       "    }\n",
       "\n",
       "    .dataframe tbody tr th {\n",
       "        vertical-align: top;\n",
       "    }\n",
       "\n",
       "    .dataframe thead th {\n",
       "        text-align: right;\n",
       "    }\n",
       "</style>\n",
       "<table border=\"1\" class=\"dataframe\">\n",
       "  <thead>\n",
       "    <tr style=\"text-align: right;\">\n",
       "      <th></th>\n",
       "      <th>CPIAUCSL</th>\n",
       "    </tr>\n",
       "    <tr>\n",
       "      <th>DATE</th>\n",
       "      <th></th>\n",
       "    </tr>\n",
       "  </thead>\n",
       "  <tbody>\n",
       "    <tr>\n",
       "      <th>1950-01-01</th>\n",
       "      <td>23.51</td>\n",
       "    </tr>\n",
       "    <tr>\n",
       "      <th>1950-02-01</th>\n",
       "      <td>23.61</td>\n",
       "    </tr>\n",
       "    <tr>\n",
       "      <th>1950-03-01</th>\n",
       "      <td>23.64</td>\n",
       "    </tr>\n",
       "    <tr>\n",
       "      <th>1950-04-01</th>\n",
       "      <td>23.65</td>\n",
       "    </tr>\n",
       "    <tr>\n",
       "      <th>1950-05-01</th>\n",
       "      <td>23.77</td>\n",
       "    </tr>\n",
       "  </tbody>\n",
       "</table>\n",
       "</div>"
      ],
      "text/plain": [
       "            CPIAUCSL\n",
       "DATE                \n",
       "1950-01-01     23.51\n",
       "1950-02-01     23.61\n",
       "1950-03-01     23.64\n",
       "1950-04-01     23.65\n",
       "1950-05-01     23.77"
      ]
     },
     "execution_count": 4,
     "metadata": {},
     "output_type": "execute_result"
    }
   ],
   "source": [
    "fred.head()"
   ]
  },
  {
   "cell_type": "code",
   "execution_count": 5,
   "id": "b038cb2f",
   "metadata": {},
   "outputs": [],
   "source": [
    "fred = fred.rename(columns = {'CPIAUCSL':'CPI'})"
   ]
  },
  {
   "cell_type": "code",
   "execution_count": 6,
   "id": "1043e709",
   "metadata": {},
   "outputs": [],
   "source": [
    "fred['CPI Log'] = fred.apply(np.log)"
   ]
  },
  {
   "cell_type": "code",
   "execution_count": 7,
   "id": "a3e8ccaa",
   "metadata": {},
   "outputs": [],
   "source": [
    "fred['CPI Log Diff'] = fred['CPI Log'].diff(1)"
   ]
  },
  {
   "cell_type": "code",
   "execution_count": 8,
   "id": "c3b5c220",
   "metadata": {},
   "outputs": [],
   "source": [
    "fred['CPI Annualized Percentage'] = fred['CPI Log Diff']*100*12"
   ]
  },
  {
   "cell_type": "code",
   "execution_count": 9,
   "id": "a51e5624",
   "metadata": {},
   "outputs": [
    {
     "data": {
      "text/html": [
       "<div>\n",
       "<style scoped>\n",
       "    .dataframe tbody tr th:only-of-type {\n",
       "        vertical-align: middle;\n",
       "    }\n",
       "\n",
       "    .dataframe tbody tr th {\n",
       "        vertical-align: top;\n",
       "    }\n",
       "\n",
       "    .dataframe thead th {\n",
       "        text-align: right;\n",
       "    }\n",
       "</style>\n",
       "<table border=\"1\" class=\"dataframe\">\n",
       "  <thead>\n",
       "    <tr style=\"text-align: right;\">\n",
       "      <th></th>\n",
       "      <th>CPI</th>\n",
       "      <th>CPI Log</th>\n",
       "      <th>CPI Log Diff</th>\n",
       "      <th>CPI Annualized Percentage</th>\n",
       "    </tr>\n",
       "    <tr>\n",
       "      <th>DATE</th>\n",
       "      <th></th>\n",
       "      <th></th>\n",
       "      <th></th>\n",
       "      <th></th>\n",
       "    </tr>\n",
       "  </thead>\n",
       "  <tbody>\n",
       "    <tr>\n",
       "      <th>1950-01-01</th>\n",
       "      <td>23.510</td>\n",
       "      <td>3.157426</td>\n",
       "      <td>NaN</td>\n",
       "      <td>NaN</td>\n",
       "    </tr>\n",
       "    <tr>\n",
       "      <th>1950-02-01</th>\n",
       "      <td>23.610</td>\n",
       "      <td>3.161670</td>\n",
       "      <td>0.004244</td>\n",
       "      <td>5.093386</td>\n",
       "    </tr>\n",
       "    <tr>\n",
       "      <th>1950-03-01</th>\n",
       "      <td>23.640</td>\n",
       "      <td>3.162940</td>\n",
       "      <td>0.001270</td>\n",
       "      <td>1.523810</td>\n",
       "    </tr>\n",
       "    <tr>\n",
       "      <th>1950-04-01</th>\n",
       "      <td>23.650</td>\n",
       "      <td>3.163363</td>\n",
       "      <td>0.000423</td>\n",
       "      <td>0.507507</td>\n",
       "    </tr>\n",
       "    <tr>\n",
       "      <th>1950-05-01</th>\n",
       "      <td>23.770</td>\n",
       "      <td>3.168424</td>\n",
       "      <td>0.005061</td>\n",
       "      <td>6.073400</td>\n",
       "    </tr>\n",
       "    <tr>\n",
       "      <th>...</th>\n",
       "      <td>...</td>\n",
       "      <td>...</td>\n",
       "      <td>...</td>\n",
       "      <td>...</td>\n",
       "    </tr>\n",
       "    <tr>\n",
       "      <th>2021-08-01</th>\n",
       "      <td>273.012</td>\n",
       "      <td>5.609516</td>\n",
       "      <td>0.002740</td>\n",
       "      <td>3.287872</td>\n",
       "    </tr>\n",
       "    <tr>\n",
       "      <th>2021-09-01</th>\n",
       "      <td>274.138</td>\n",
       "      <td>5.613632</td>\n",
       "      <td>0.004116</td>\n",
       "      <td>4.939055</td>\n",
       "    </tr>\n",
       "    <tr>\n",
       "      <th>2021-10-01</th>\n",
       "      <td>276.724</td>\n",
       "      <td>5.623021</td>\n",
       "      <td>0.009389</td>\n",
       "      <td>11.266788</td>\n",
       "    </tr>\n",
       "    <tr>\n",
       "      <th>2021-11-01</th>\n",
       "      <td>278.880</td>\n",
       "      <td>5.630782</td>\n",
       "      <td>0.007761</td>\n",
       "      <td>9.313155</td>\n",
       "    </tr>\n",
       "    <tr>\n",
       "      <th>2021-12-01</th>\n",
       "      <td>280.192</td>\n",
       "      <td>5.635475</td>\n",
       "      <td>0.004694</td>\n",
       "      <td>5.632201</td>\n",
       "    </tr>\n",
       "  </tbody>\n",
       "</table>\n",
       "<p>864 rows × 4 columns</p>\n",
       "</div>"
      ],
      "text/plain": [
       "                CPI   CPI Log  CPI Log Diff  CPI Annualized Percentage\n",
       "DATE                                                                  \n",
       "1950-01-01   23.510  3.157426           NaN                        NaN\n",
       "1950-02-01   23.610  3.161670      0.004244                   5.093386\n",
       "1950-03-01   23.640  3.162940      0.001270                   1.523810\n",
       "1950-04-01   23.650  3.163363      0.000423                   0.507507\n",
       "1950-05-01   23.770  3.168424      0.005061                   6.073400\n",
       "...             ...       ...           ...                        ...\n",
       "2021-08-01  273.012  5.609516      0.002740                   3.287872\n",
       "2021-09-01  274.138  5.613632      0.004116                   4.939055\n",
       "2021-10-01  276.724  5.623021      0.009389                  11.266788\n",
       "2021-11-01  278.880  5.630782      0.007761                   9.313155\n",
       "2021-12-01  280.192  5.635475      0.004694                   5.632201\n",
       "\n",
       "[864 rows x 4 columns]"
      ]
     },
     "execution_count": 9,
     "metadata": {},
     "output_type": "execute_result"
    }
   ],
   "source": [
    "fred"
   ]
  },
  {
   "cell_type": "code",
   "execution_count": 10,
   "id": "760fa6c1",
   "metadata": {},
   "outputs": [
    {
     "data": {
      "text/plain": [
       "3.4457231331286655"
      ]
     },
     "execution_count": 10,
     "metadata": {},
     "output_type": "execute_result"
    }
   ],
   "source": [
    "fred['CPI Annualized Percentage'].mean()"
   ]
  },
  {
   "cell_type": "markdown",
   "id": "42fdceaa",
   "metadata": {},
   "source": [
    "### Answer to (a)"
   ]
  },
  {
   "cell_type": "markdown",
   "id": "7db9d523",
   "metadata": {},
   "source": [
    "The average annual inflation rate from January 1950 to December 2021 is 3.45%"
   ]
  },
  {
   "cell_type": "markdown",
   "id": "9402e37c",
   "metadata": {},
   "source": [
    "### (b)"
   ]
  },
  {
   "cell_type": "code",
   "execution_count": 11,
   "id": "202810bc",
   "metadata": {},
   "outputs": [],
   "source": [
    "fred_2000 = fred[fred.index > '1999-01-01']"
   ]
  },
  {
   "cell_type": "code",
   "execution_count": 14,
   "id": "86b120a0",
   "metadata": {},
   "outputs": [
    {
     "data": {
      "text/html": [
       "<div>\n",
       "<style scoped>\n",
       "    .dataframe tbody tr th:only-of-type {\n",
       "        vertical-align: middle;\n",
       "    }\n",
       "\n",
       "    .dataframe tbody tr th {\n",
       "        vertical-align: top;\n",
       "    }\n",
       "\n",
       "    .dataframe thead th {\n",
       "        text-align: right;\n",
       "    }\n",
       "</style>\n",
       "<table border=\"1\" class=\"dataframe\">\n",
       "  <thead>\n",
       "    <tr style=\"text-align: right;\">\n",
       "      <th></th>\n",
       "      <th>CPI</th>\n",
       "      <th>CPI Log</th>\n",
       "      <th>CPI Log Diff</th>\n",
       "      <th>CPI Annualized Percentage</th>\n",
       "    </tr>\n",
       "    <tr>\n",
       "      <th>DATE</th>\n",
       "      <th></th>\n",
       "      <th></th>\n",
       "      <th></th>\n",
       "      <th></th>\n",
       "    </tr>\n",
       "  </thead>\n",
       "  <tbody>\n",
       "    <tr>\n",
       "      <th>1999-02-01</th>\n",
       "      <td>164.7</td>\n",
       "      <td>5.104126</td>\n",
       "      <td>0.000000</td>\n",
       "      <td>0.000000</td>\n",
       "    </tr>\n",
       "    <tr>\n",
       "      <th>1999-03-01</th>\n",
       "      <td>164.8</td>\n",
       "      <td>5.104733</td>\n",
       "      <td>0.000607</td>\n",
       "      <td>0.728376</td>\n",
       "    </tr>\n",
       "    <tr>\n",
       "      <th>1999-04-01</th>\n",
       "      <td>165.9</td>\n",
       "      <td>5.111385</td>\n",
       "      <td>0.006653</td>\n",
       "      <td>7.983096</td>\n",
       "    </tr>\n",
       "    <tr>\n",
       "      <th>1999-05-01</th>\n",
       "      <td>166.0</td>\n",
       "      <td>5.111988</td>\n",
       "      <td>0.000603</td>\n",
       "      <td>0.723109</td>\n",
       "    </tr>\n",
       "    <tr>\n",
       "      <th>1999-06-01</th>\n",
       "      <td>166.0</td>\n",
       "      <td>5.111988</td>\n",
       "      <td>0.000000</td>\n",
       "      <td>0.000000</td>\n",
       "    </tr>\n",
       "    <tr>\n",
       "      <th>1999-07-01</th>\n",
       "      <td>166.7</td>\n",
       "      <td>5.116196</td>\n",
       "      <td>0.004208</td>\n",
       "      <td>5.049602</td>\n",
       "    </tr>\n",
       "    <tr>\n",
       "      <th>1999-08-01</th>\n",
       "      <td>167.1</td>\n",
       "      <td>5.118592</td>\n",
       "      <td>0.002397</td>\n",
       "      <td>2.875975</td>\n",
       "    </tr>\n",
       "    <tr>\n",
       "      <th>1999-09-01</th>\n",
       "      <td>167.8</td>\n",
       "      <td>5.122773</td>\n",
       "      <td>0.004180</td>\n",
       "      <td>5.016430</td>\n",
       "    </tr>\n",
       "    <tr>\n",
       "      <th>1999-10-01</th>\n",
       "      <td>168.1</td>\n",
       "      <td>5.124559</td>\n",
       "      <td>0.001786</td>\n",
       "      <td>2.143496</td>\n",
       "    </tr>\n",
       "    <tr>\n",
       "      <th>1999-11-01</th>\n",
       "      <td>168.4</td>\n",
       "      <td>5.126342</td>\n",
       "      <td>0.001783</td>\n",
       "      <td>2.139674</td>\n",
       "    </tr>\n",
       "    <tr>\n",
       "      <th>1999-12-01</th>\n",
       "      <td>168.8</td>\n",
       "      <td>5.128715</td>\n",
       "      <td>0.002372</td>\n",
       "      <td>2.846976</td>\n",
       "    </tr>\n",
       "    <tr>\n",
       "      <th>2000-01-01</th>\n",
       "      <td>169.3</td>\n",
       "      <td>5.131672</td>\n",
       "      <td>0.002958</td>\n",
       "      <td>3.549248</td>\n",
       "    </tr>\n",
       "  </tbody>\n",
       "</table>\n",
       "</div>"
      ],
      "text/plain": [
       "              CPI   CPI Log  CPI Log Diff  CPI Annualized Percentage\n",
       "DATE                                                                \n",
       "1999-02-01  164.7  5.104126      0.000000                   0.000000\n",
       "1999-03-01  164.8  5.104733      0.000607                   0.728376\n",
       "1999-04-01  165.9  5.111385      0.006653                   7.983096\n",
       "1999-05-01  166.0  5.111988      0.000603                   0.723109\n",
       "1999-06-01  166.0  5.111988      0.000000                   0.000000\n",
       "1999-07-01  166.7  5.116196      0.004208                   5.049602\n",
       "1999-08-01  167.1  5.118592      0.002397                   2.875975\n",
       "1999-09-01  167.8  5.122773      0.004180                   5.016430\n",
       "1999-10-01  168.1  5.124559      0.001786                   2.143496\n",
       "1999-11-01  168.4  5.126342      0.001783                   2.139674\n",
       "1999-12-01  168.8  5.128715      0.002372                   2.846976\n",
       "2000-01-01  169.3  5.131672      0.002958                   3.549248"
      ]
     },
     "execution_count": 14,
     "metadata": {},
     "output_type": "execute_result"
    }
   ],
   "source": [
    "fred_2000[0:12]"
   ]
  },
  {
   "cell_type": "code",
   "execution_count": 16,
   "id": "0a8d0df0",
   "metadata": {},
   "outputs": [],
   "source": [
    "n = 11\n",
    "unweighted_ma = []\n",
    "for i in range(len(fred_2000['CPI Annualized Percentage'][11:])):\n",
    "    unweighted_ma.append(fred_2000['CPI Annualized Percentage'][0+i:12+i].sum()/(n+1))"
   ]
  },
  {
   "cell_type": "code",
   "execution_count": 17,
   "id": "5c2ad054",
   "metadata": {},
   "outputs": [],
   "source": [
    "#add 11 zeroes to ma list\n",
    "\n",
    "zero = 0\n",
    "for i in range(0,11,1):\n",
    "    unweighted_ma.insert(i,zero)"
   ]
  },
  {
   "cell_type": "code",
   "execution_count": 18,
   "id": "6f22fc48",
   "metadata": {},
   "outputs": [
    {
     "data": {
      "text/plain": [
       "275"
      ]
     },
     "execution_count": 18,
     "metadata": {},
     "output_type": "execute_result"
    }
   ],
   "source": [
    "len(unweighted_ma)"
   ]
  },
  {
   "cell_type": "code",
   "execution_count": 19,
   "id": "7df1816e",
   "metadata": {},
   "outputs": [
    {
     "name": "stderr",
     "output_type": "stream",
     "text": [
      "<ipython-input-19-0684d31c1304>:3: SettingWithCopyWarning: \n",
      "A value is trying to be set on a copy of a slice from a DataFrame.\n",
      "Try using .loc[row_indexer,col_indexer] = value instead\n",
      "\n",
      "See the caveats in the documentation: https://pandas.pydata.org/pandas-docs/stable/user_guide/indexing.html#returning-a-view-versus-a-copy\n",
      "  fred_2000['unweighted_ma'] = unweighted_ma\n"
     ]
    }
   ],
   "source": [
    "#add to fred_2000 table\n",
    "\n",
    "fred_2000['unweighted_ma'] = unweighted_ma"
   ]
  },
  {
   "cell_type": "markdown",
   "id": "23572878",
   "metadata": {},
   "source": [
    "### Answer to (b)"
   ]
  },
  {
   "cell_type": "code",
   "execution_count": 21,
   "id": "8ca53a35",
   "metadata": {},
   "outputs": [
    {
     "data": {
      "text/plain": [
       "<matplotlib.legend.Legend at 0x200a53490d0>"
      ]
     },
     "execution_count": 21,
     "metadata": {},
     "output_type": "execute_result"
    },
    {
     "data": {
      "image/png": "[encoded data removed]",
      "text/plain": [
       "<Figure size 720x360 with 1 Axes>"
      ]
     },
     "metadata": {
      "needs_background": "light"
     },
     "output_type": "display_data"
    }
   ],
   "source": [
    "fig, ax = plt.subplots(figsize=(10,5))\n",
    "\n",
    "ax.plot(fred_2000.index[11:],fred_2000['unweighted_ma'][11:], color = \"orange\", label = \"MA\")\n",
    "ax.plot(fred_2000.index[11:], fred_2000['CPI Annualized Percentage'][11:], color = \"blue\", alpha = 0.5, linestyle ='--', label = \"CPI Annual (log)\")\n",
    "\n",
    "ax.set_ylabel('inflation rate') \n",
    "ax.set_xlabel('year')                \n",
    "ax.set_title('CPI Annualized Percentage (log) vs. Unweighted MA')\n",
    "ax.spines['right'].set_visible(False) \n",
    "ax.spines['top'].set_visible(False) \n",
    "\n",
    "plt.legend()"
   ]
  },
  {
   "cell_type": "markdown",
   "id": "0913b09e",
   "metadata": {},
   "source": [
    "### (c)"
   ]
  },
  {
   "cell_type": "code",
   "execution_count": 22,
   "id": "97311ee4",
   "metadata": {},
   "outputs": [],
   "source": [
    "alpha = .10\n",
    "smoothed_values = []\n",
    "count = 0\n",
    "for i in range(len(fred_2000['CPI Annualized Percentage'])):\n",
    "    #count += 1\n",
    "    if count <= 11:\n",
    "        smoothed_values.append(fred_2000['CPI Annualized Percentage'][i] * alpha*(1-alpha)**(11-count))\n",
    "        count += 1\n",
    "    elif count > 11:\n",
    "        count = 0\n",
    "        smoothed_values.append(fred_2000['CPI Annualized Percentage'][i] * alpha*(1-alpha)**(11-count))\n",
    "        count = 1\n",
    "        "
   ]
  },
  {
   "cell_type": "code",
   "execution_count": 23,
   "id": "dd5ed7f0",
   "metadata": {},
   "outputs": [],
   "source": [
    "count = 0\n",
    "new_smoothed_values = []\n",
    "for i in range(len(smoothed_values[11:])):\n",
    "    new_smoothed_values.append(sum(smoothed_values[0+i:12+i]))\n",
    "    count += 12"
   ]
  },
  {
   "cell_type": "code",
   "execution_count": 25,
   "id": "879a2ff6",
   "metadata": {},
   "outputs": [
    {
     "data": {
      "text/plain": [
       "264"
      ]
     },
     "execution_count": 25,
     "metadata": {},
     "output_type": "execute_result"
    }
   ],
   "source": [
    "len(new_smoothed_values)"
   ]
  },
  {
   "cell_type": "code",
   "execution_count": 26,
   "id": "4c68208b",
   "metadata": {},
   "outputs": [],
   "source": [
    "#add 11 zeroes to smoothed list\n",
    "\n",
    "zero = 0\n",
    "for i in range(0,11,1):\n",
    "    new_smoothed_values.insert(i,zero)"
   ]
  },
  {
   "cell_type": "code",
   "execution_count": 28,
   "id": "41376fa9",
   "metadata": {},
   "outputs": [
    {
     "data": {
      "text/plain": [
       "275"
      ]
     },
     "execution_count": 28,
     "metadata": {},
     "output_type": "execute_result"
    }
   ],
   "source": [
    "len(new_smoothed_values)"
   ]
  },
  {
   "cell_type": "code",
   "execution_count": 30,
   "id": "aa04bd7b",
   "metadata": {},
   "outputs": [
    {
     "name": "stderr",
     "output_type": "stream",
     "text": [
      "<ipython-input-30-6ffce45b038d>:4: SettingWithCopyWarning: \n",
      "A value is trying to be set on a copy of a slice from a DataFrame.\n",
      "Try using .loc[row_indexer,col_indexer] = value instead\n",
      "\n",
      "See the caveats in the documentation: https://pandas.pydata.org/pandas-docs/stable/user_guide/indexing.html#returning-a-view-versus-a-copy\n",
      "  fred_2000['Exponential Smoothing'] = new_smoothed_values\n"
     ]
    }
   ],
   "source": [
    "# add exponential smoothing to fred 2000 table\n",
    "\n",
    "\n",
    "fred_2000['Exponential Smoothing'] = new_smoothed_values"
   ]
  },
  {
   "cell_type": "code",
   "execution_count": 34,
   "id": "0f1aabf5",
   "metadata": {},
   "outputs": [
    {
     "data": {
      "text/html": [
       "<div>\n",
       "<style scoped>\n",
       "    .dataframe tbody tr th:only-of-type {\n",
       "        vertical-align: middle;\n",
       "    }\n",
       "\n",
       "    .dataframe tbody tr th {\n",
       "        vertical-align: top;\n",
       "    }\n",
       "\n",
       "    .dataframe thead th {\n",
       "        text-align: right;\n",
       "    }\n",
       "</style>\n",
       "<table border=\"1\" class=\"dataframe\">\n",
       "  <thead>\n",
       "    <tr style=\"text-align: right;\">\n",
       "      <th></th>\n",
       "      <th>CPI</th>\n",
       "      <th>CPI Log</th>\n",
       "      <th>CPI Log Diff</th>\n",
       "      <th>CPI Annualized Percentage</th>\n",
       "      <th>unweighted_ma</th>\n",
       "      <th>Exponential Smoothing</th>\n",
       "    </tr>\n",
       "    <tr>\n",
       "      <th>DATE</th>\n",
       "      <th></th>\n",
       "      <th></th>\n",
       "      <th></th>\n",
       "      <th></th>\n",
       "      <th></th>\n",
       "      <th></th>\n",
       "    </tr>\n",
       "  </thead>\n",
       "  <tbody>\n",
       "    <tr>\n",
       "      <th>2021-01-01</th>\n",
       "      <td>262.231</td>\n",
       "      <td>5.569226</td>\n",
       "      <td>0.002562</td>\n",
       "      <td>3.074510</td>\n",
       "      <td>1.360696</td>\n",
       "      <td>1.425018</td>\n",
       "    </tr>\n",
       "    <tr>\n",
       "      <th>2021-02-01</th>\n",
       "      <td>263.161</td>\n",
       "      <td>5.572766</td>\n",
       "      <td>0.003540</td>\n",
       "      <td>4.248261</td>\n",
       "      <td>1.661772</td>\n",
       "      <td>1.538395</td>\n",
       "    </tr>\n",
       "    <tr>\n",
       "      <th>2021-03-01</th>\n",
       "      <td>264.793</td>\n",
       "      <td>5.578948</td>\n",
       "      <td>0.006182</td>\n",
       "      <td>7.418852</td>\n",
       "      <td>2.603144</td>\n",
       "      <td>1.932278</td>\n",
       "    </tr>\n",
       "    <tr>\n",
       "      <th>2021-04-01</th>\n",
       "      <td>266.832</td>\n",
       "      <td>5.586619</td>\n",
       "      <td>0.007671</td>\n",
       "      <td>9.205030</td>\n",
       "      <td>4.069208</td>\n",
       "      <td>2.613858</td>\n",
       "    </tr>\n",
       "    <tr>\n",
       "      <th>2021-05-01</th>\n",
       "      <td>268.551</td>\n",
       "      <td>5.593041</td>\n",
       "      <td>0.006422</td>\n",
       "      <td>7.705912</td>\n",
       "      <td>4.808998</td>\n",
       "      <td>2.996005</td>\n",
       "    </tr>\n",
       "    <tr>\n",
       "      <th>2021-06-01</th>\n",
       "      <td>270.981</td>\n",
       "      <td>5.602049</td>\n",
       "      <td>0.009008</td>\n",
       "      <td>10.809441</td>\n",
       "      <td>5.187595</td>\n",
       "      <td>3.213303</td>\n",
       "    </tr>\n",
       "    <tr>\n",
       "      <th>2021-07-01</th>\n",
       "      <td>272.265</td>\n",
       "      <td>5.606776</td>\n",
       "      <td>0.004727</td>\n",
       "      <td>5.672579</td>\n",
       "      <td>5.147792</td>\n",
       "      <td>3.187919</td>\n",
       "    </tr>\n",
       "    <tr>\n",
       "      <th>2021-08-01</th>\n",
       "      <td>273.012</td>\n",
       "      <td>5.609516</td>\n",
       "      <td>0.002740</td>\n",
       "      <td>3.287872</td>\n",
       "      <td>5.071666</td>\n",
       "      <td>3.133977</td>\n",
       "    </tr>\n",
       "    <tr>\n",
       "      <th>2021-09-01</th>\n",
       "      <td>274.138</td>\n",
       "      <td>5.613632</td>\n",
       "      <td>0.004116</td>\n",
       "      <td>4.939055</td>\n",
       "      <td>5.237709</td>\n",
       "      <td>3.264706</td>\n",
       "    </tr>\n",
       "    <tr>\n",
       "      <th>2021-10-01</th>\n",
       "      <td>276.724</td>\n",
       "      <td>5.623021</td>\n",
       "      <td>0.009389</td>\n",
       "      <td>11.266788</td>\n",
       "      <td>6.056364</td>\n",
       "      <td>3.980866</td>\n",
       "    </tr>\n",
       "    <tr>\n",
       "      <th>2021-11-01</th>\n",
       "      <td>278.880</td>\n",
       "      <td>5.630782</td>\n",
       "      <td>0.007761</td>\n",
       "      <td>9.313155</td>\n",
       "      <td>6.654091</td>\n",
       "      <td>4.561856</td>\n",
       "    </tr>\n",
       "    <tr>\n",
       "      <th>2021-12-01</th>\n",
       "      <td>280.192</td>\n",
       "      <td>5.635475</td>\n",
       "      <td>0.004694</td>\n",
       "      <td>5.632201</td>\n",
       "      <td>6.881138</td>\n",
       "      <td>4.807067</td>\n",
       "    </tr>\n",
       "  </tbody>\n",
       "</table>\n",
       "</div>"
      ],
      "text/plain": [
       "                CPI   CPI Log  CPI Log Diff  CPI Annualized Percentage  \\\n",
       "DATE                                                                     \n",
       "2021-01-01  262.231  5.569226      0.002562                   3.074510   \n",
       "2021-02-01  263.161  5.572766      0.003540                   4.248261   \n",
       "2021-03-01  264.793  5.578948      0.006182                   7.418852   \n",
       "2021-04-01  266.832  5.586619      0.007671                   9.205030   \n",
       "2021-05-01  268.551  5.593041      0.006422                   7.705912   \n",
       "2021-06-01  270.981  5.602049      0.009008                  10.809441   \n",
       "2021-07-01  272.265  5.606776      0.004727                   5.672579   \n",
       "2021-08-01  273.012  5.609516      0.002740                   3.287872   \n",
       "2021-09-01  274.138  5.613632      0.004116                   4.939055   \n",
       "2021-10-01  276.724  5.623021      0.009389                  11.266788   \n",
       "2021-11-01  278.880  5.630782      0.007761                   9.313155   \n",
       "2021-12-01  280.192  5.635475      0.004694                   5.632201   \n",
       "\n",
       "            unweighted_ma  Exponential Smoothing  \n",
       "DATE                                              \n",
       "2021-01-01       1.360696               1.425018  \n",
       "2021-02-01       1.661772               1.538395  \n",
       "2021-03-01       2.603144               1.932278  \n",
       "2021-04-01       4.069208               2.613858  \n",
       "2021-05-01       4.808998               2.996005  \n",
       "2021-06-01       5.187595               3.213303  \n",
       "2021-07-01       5.147792               3.187919  \n",
       "2021-08-01       5.071666               3.133977  \n",
       "2021-09-01       5.237709               3.264706  \n",
       "2021-10-01       6.056364               3.980866  \n",
       "2021-11-01       6.654091               4.561856  \n",
       "2021-12-01       6.881138               4.807067  "
      ]
     },
     "execution_count": 34,
     "metadata": {},
     "output_type": "execute_result"
    }
   ],
   "source": [
    "fred_2000[-12:]"
   ]
  },
  {
   "cell_type": "markdown",
   "id": "a624c1ae",
   "metadata": {},
   "source": [
    "### Answer to (c)"
   ]
  },
  {
   "cell_type": "code",
   "execution_count": 35,
   "id": "ffa403c5",
   "metadata": {},
   "outputs": [
    {
     "data": {
      "text/plain": [
       "<matplotlib.legend.Legend at 0x200a5b05ac0>"
      ]
     },
     "execution_count": 35,
     "metadata": {},
     "output_type": "execute_result"
    },
    {
     "data": {
      "image/png": "[encoded data removed]",
      "text/plain": [
       "<Figure size 720x360 with 1 Axes>"
      ]
     },
     "metadata": {
      "needs_background": "light"
     },
     "output_type": "display_data"
    }
   ],
   "source": [
    "fig, ax = plt.subplots(figsize=(10,5))\n",
    "\n",
    "ax.plot(fred_2000.index[11:],fred_2000['unweighted_ma'][11:], color = \"orange\", label = \"MA\")\n",
    "ax.plot(fred_2000.index[11:], fred_2000['Exponential Smoothing'][11:], color = \"grey\", alpha = 0.5, linestyle ='--', label = \"Smoothing\")\n",
    "\n",
    "\n",
    "ax.set_ylabel('inflation rate') \n",
    "ax.set_xlabel('year')                \n",
    "ax.set_title('Smoothing vs. Unweighted MA')\n",
    "ax.spines['right'].set_visible(False) \n",
    "ax.spines['top'].set_visible(False) \n",
    "\n",
    "plt.legend()"
   ]
  },
  {
   "cell_type": "markdown",
   "id": "bb15918b",
   "metadata": {},
   "source": [
    "## Problem 3"
   ]
  },
  {
   "cell_type": "code",
   "execution_count": 47,
   "id": "36eb8d25",
   "metadata": {},
   "outputs": [],
   "source": [
    "start = datetime.datetime (1950, 1, 1)\n",
    "end = datetime.datetime (2022, 1, 1)\n",
    "\n",
    "fred_gdp = pdr.DataReader(['GDPC1'], 'fred', start, end)"
   ]
  },
  {
   "cell_type": "code",
   "execution_count": 48,
   "id": "a97de0f7",
   "metadata": {},
   "outputs": [
    {
     "data": {
      "text/html": [
       "<div>\n",
       "<style scoped>\n",
       "    .dataframe tbody tr th:only-of-type {\n",
       "        vertical-align: middle;\n",
       "    }\n",
       "\n",
       "    .dataframe tbody tr th {\n",
       "        vertical-align: top;\n",
       "    }\n",
       "\n",
       "    .dataframe thead th {\n",
       "        text-align: right;\n",
       "    }\n",
       "</style>\n",
       "<table border=\"1\" class=\"dataframe\">\n",
       "  <thead>\n",
       "    <tr style=\"text-align: right;\">\n",
       "      <th></th>\n",
       "      <th>GDPC1</th>\n",
       "    </tr>\n",
       "    <tr>\n",
       "      <th>DATE</th>\n",
       "      <th></th>\n",
       "    </tr>\n",
       "  </thead>\n",
       "  <tbody>\n",
       "    <tr>\n",
       "      <th>1950-01-01</th>\n",
       "      <td>2186.365</td>\n",
       "    </tr>\n",
       "    <tr>\n",
       "      <th>1950-04-01</th>\n",
       "      <td>2253.045</td>\n",
       "    </tr>\n",
       "    <tr>\n",
       "      <th>1950-07-01</th>\n",
       "      <td>2340.112</td>\n",
       "    </tr>\n",
       "    <tr>\n",
       "      <th>1950-10-01</th>\n",
       "      <td>2384.920</td>\n",
       "    </tr>\n",
       "    <tr>\n",
       "      <th>1951-01-01</th>\n",
       "      <td>2417.311</td>\n",
       "    </tr>\n",
       "  </tbody>\n",
       "</table>\n",
       "</div>"
      ],
      "text/plain": [
       "               GDPC1\n",
       "DATE                \n",
       "1950-01-01  2186.365\n",
       "1950-04-01  2253.045\n",
       "1950-07-01  2340.112\n",
       "1950-10-01  2384.920\n",
       "1951-01-01  2417.311"
      ]
     },
     "execution_count": 48,
     "metadata": {},
     "output_type": "execute_result"
    }
   ],
   "source": [
    "fred_gdp.head()"
   ]
  },
  {
   "cell_type": "code",
   "execution_count": null,
   "id": "c1a4471a",
   "metadata": {},
   "outputs": [],
   "source": []
  },
  {
   "cell_type": "code",
   "execution_count": null,
   "id": "c41730dc",
   "metadata": {},
   "outputs": [],
   "source": []
  }
 ],
 "metadata": {
  "kernelspec": {
   "display_name": "Python 3",
   "language": "python",
   "name": "python3"
  },
  "language_info": {
   "codemirror_mode": {
    "name": "ipython",
    "version": 3
   },
   "file_extension": ".py",
   "mimetype": "text/x-python",
   "name": "python",
   "nbconvert_exporter": "python",
   "pygments_lexer": "ipython3",
   "version": "3.8.8"
  }
 },
 "nbformat": 4,
 "nbformat_minor": 5
}
