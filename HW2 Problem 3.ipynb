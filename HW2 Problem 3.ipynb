{
 "cells": [
  {
   "cell_type": "markdown",
   "id": "de7d4a04",
   "metadata": {},
   "source": [
    "### Problem 3"
   ]
  },
  {
   "cell_type": "code",
   "execution_count": 393,
   "id": "ba751f13",
   "metadata": {},
   "outputs": [],
   "source": [
    "import pandas_datareader as pdr\n",
    "import pandas as pd\n",
    "import datetime\n",
    "import numpy as np\n",
    "import math\n",
    "import matplotlib.pyplot as plt\n",
    "from statsmodels.tsa.stattools import acf\n",
    "from statsmodels.graphics.tsaplots import plot_acf\n",
    "from statsmodels.tsa.stattools import acovf"
   ]
  },
  {
   "cell_type": "code",
   "execution_count": 394,
   "id": "978415ed",
   "metadata": {},
   "outputs": [],
   "source": [
    "start = datetime.datetime (1949, 12, 1)\n",
    "end = datetime.datetime (2021, 12, 31)\n",
    "\n",
    "fred = pdr.DataReader(['CPIAUCSL'], 'fred', start, end)"
   ]
  },
  {
   "cell_type": "code",
   "execution_count": 395,
   "id": "5422a208",
   "metadata": {},
   "outputs": [],
   "source": [
    "fred = fred.rename(columns = {'CPIAUCSL':'CPI'})"
   ]
  },
  {
   "cell_type": "code",
   "execution_count": 396,
   "id": "d8be2d07",
   "metadata": {},
   "outputs": [],
   "source": [
    "fred['CPI Log'] = fred.apply(np.log)"
   ]
  },
  {
   "cell_type": "code",
   "execution_count": 397,
   "id": "b2bbc9af",
   "metadata": {},
   "outputs": [],
   "source": [
    "fred['CPI Log Diff'] = fred['CPI Log'].diff(1)"
   ]
  },
  {
   "cell_type": "code",
   "execution_count": 398,
   "id": "da5408ea",
   "metadata": {},
   "outputs": [],
   "source": [
    "fred['Inflation Rate'] = fred['CPI Log Diff']*100*12"
   ]
  },
  {
   "cell_type": "code",
   "execution_count": 401,
   "id": "0167215c",
   "metadata": {},
   "outputs": [],
   "source": [
    "fred = fred[1:]"
   ]
  },
  {
   "cell_type": "code",
   "execution_count": 402,
   "id": "c20ee761",
   "metadata": {},
   "outputs": [
    {
     "data": {
      "text/plain": [
       "<PandasArray>\n",
       "[ -0.004244488545443126,   0.004244488545443126,  0.0012698414404761493,\n",
       " 0.00042292240004426773,   0.005061166434160658,  0.0046170071522988465,\n",
       "   0.007924963270579344,   0.005386381367660231,   0.005768454396740452,\n",
       "   0.006552029991300223,\n",
       " ...\n",
       "   0.006182376487946506,   0.007670858211099585,  0.0064215931666709025,\n",
       "   0.009007867674829306,   0.004727148993326935,   0.002739893548826089,\n",
       "    0.00411587897132204,   0.009388990335051695,   0.007760962202460142,\n",
       "  0.0046935006886323904]\n",
       "Length: 864, dtype: float64"
      ]
     },
     "execution_count": 402,
     "metadata": {},
     "output_type": "execute_result"
    }
   ],
   "source": [
    "inflationrate = fred['CPI Log Diff'].array\n",
    "inflationrate"
   ]
  },
  {
   "cell_type": "code",
   "execution_count": 417,
   "id": "2f0976ed",
   "metadata": {},
   "outputs": [
    {
     "data": {
      "image/png": "[encoded data removed]",
      "text/plain": [
       "<Figure size 432x288 with 1 Axes>"
      ]
     },
     "metadata": {
      "needs_background": "light"
     },
     "output_type": "display_data"
    }
   ],
   "source": [
    "from matplotlib import pyplot\n",
    "from statsmodels.graphics.tsaplots import plot_acf\n",
    "plot_acf(inflationrate[0:], lags=24)\n",
    "pyplot.show()"
   ]
  },
  {
   "cell_type": "code",
   "execution_count": 418,
   "id": "fbba44ab",
   "metadata": {},
   "outputs": [
    {
     "data": {
      "text/plain": [
       "<PandasArray>\n",
       "[ -0.004244488545443126,   0.004244488545443126,  0.0012698414404761493,\n",
       " 0.00042292240004426773,   0.005061166434160658,  0.0046170071522988465,\n",
       "   0.007924963270579344,   0.005386381367660231,   0.005768454396740452,\n",
       "   0.006552029991300223,\n",
       " ...\n",
       "   0.006182376487946506,   0.007670858211099585,  0.0064215931666709025,\n",
       "   0.009007867674829306,   0.004727148993326935,   0.002739893548826089,\n",
       "    0.00411587897132204,   0.009388990335051695,   0.007760962202460142,\n",
       "  0.0046935006886323904]\n",
       "Length: 864, dtype: float64"
      ]
     },
     "execution_count": 418,
     "metadata": {},
     "output_type": "execute_result"
    }
   ],
   "source": [
    "inflationrate[0:]"
   ]
  },
  {
   "cell_type": "code",
   "execution_count": 419,
   "id": "187497b3",
   "metadata": {},
   "outputs": [
    {
     "name": "stderr",
     "output_type": "stream",
     "text": [
      "C:\\Users\\rossd\\Anaconda3\\lib\\site-packages\\statsmodels\\tsa\\stattools.py:667: FutureWarning: fft=True will become the default after the release of the 0.12 release of statsmodels. To suppress this warning, explicitly set fft=False.\n",
      "  warnings.warn(\n"
     ]
    },
    {
     "data": {
      "text/plain": [
       "array([1.        , 0.61425709, 0.46039253, 0.37866001, 0.38188855,\n",
       "       0.37389842, 0.36070704, 0.38780048, 0.37800523, 0.40538597,\n",
       "       0.41398346, 0.37937075, 0.26726587, 0.24252242, 0.28539836,\n",
       "       0.35756544, 0.33288689, 0.32769557, 0.31488714, 0.27874607,\n",
       "       0.26941872, 0.25795638, 0.23851166, 0.19059216, 0.17542228])"
      ]
     },
     "execution_count": 419,
     "metadata": {},
     "output_type": "execute_result"
    }
   ],
   "source": [
    "import statsmodels.api as sm\n",
    "\n",
    "#calculate autocorrelations\n",
    "ac = sm.tsa.acf(inflationrate[0:], nlags=24, adjusted = False)\n",
    "ac"
   ]
  },
  {
   "cell_type": "code",
   "execution_count": 420,
   "id": "5dcae3c8",
   "metadata": {},
   "outputs": [
    {
     "data": {
      "text/plain": [
       "11.23495023863905"
      ]
     },
     "execution_count": 420,
     "metadata": {},
     "output_type": "execute_result"
    }
   ],
   "source": [
    "from statistics import stdev\n",
    "#calculate t statistic\n",
    "tstat = ac.mean()/(stdev(ac)/(len(ac)**.5))\n",
    "tstat"
   ]
  },
  {
   "cell_type": "code",
   "execution_count": 421,
   "id": "ed86ec9d",
   "metadata": {},
   "outputs": [
    {
     "data": {
      "text/plain": [
       "(-1.4657174457399635,\n",
       " 0.5503971687662371,\n",
       " 2,\n",
       " 22,\n",
       " {'1%': -3.769732625845229,\n",
       "  '5%': -3.005425537190083,\n",
       "  '10%': -2.6425009917355373},\n",
       " -54.16053754102067)"
      ]
     },
     "execution_count": 421,
     "metadata": {},
     "output_type": "execute_result"
    }
   ],
   "source": [
    "from statsmodels.tsa.stattools import adfuller\n",
    "\n",
    "adfuller(ac)"
   ]
  },
  {
   "cell_type": "code",
   "execution_count": 422,
   "id": "599e0a7d",
   "metadata": {},
   "outputs": [
    {
     "data": {
      "text/plain": [
       "0.26726586765978416"
      ]
     },
     "execution_count": 422,
     "metadata": {},
     "output_type": "execute_result"
    }
   ],
   "source": [
    "ac[12]"
   ]
  },
  {
   "cell_type": "code",
   "execution_count": 423,
   "id": "8cde7c9f",
   "metadata": {},
   "outputs": [
    {
     "data": {
      "text/plain": [
       "7.855980017144252"
      ]
     },
     "execution_count": 423,
     "metadata": {},
     "output_type": "execute_result"
    }
   ],
   "source": [
    "ac[12] * len(inflationrate)**(1/2)"
   ]
  },
  {
   "cell_type": "code",
   "execution_count": 424,
   "id": "d39783ce",
   "metadata": {},
   "outputs": [
    {
     "data": {
      "text/plain": [
       "<PandasArray>\n",
       "[ -0.004244488545443126,   0.004244488545443126,  0.0012698414404761493,\n",
       " 0.00042292240004426773,   0.005061166434160658,  0.0046170071522988465,\n",
       "   0.007924963270579344,   0.005386381367660231,   0.005768454396740452,\n",
       "   0.006552029991300223,\n",
       " ...\n",
       "   0.006182376487946506,   0.007670858211099585,  0.0064215931666709025,\n",
       "   0.009007867674829306,   0.004727148993326935,   0.002739893548826089,\n",
       "    0.00411587897132204,   0.009388990335051695,   0.007760962202460142,\n",
       "  0.0046935006886323904]\n",
       "Length: 864, dtype: float64"
      ]
     },
     "execution_count": 424,
     "metadata": {},
     "output_type": "execute_result"
    }
   ],
   "source": [
    "inflationrate"
   ]
  },
  {
   "cell_type": "markdown",
   "id": "7376a506",
   "metadata": {},
   "source": [
    "## Dow Jones"
   ]
  },
  {
   "cell_type": "code",
   "execution_count": 183,
   "id": "b9b0fa06",
   "metadata": {},
   "outputs": [
    {
     "name": "stdout",
     "output_type": "stream",
     "text": [
      "C:\\Users\\rossd\\OneDrive\\Documents\\UGA MSBA\\Spring 2022\\ECON 6760\n"
     ]
    }
   ],
   "source": [
    "%cd \"C:\\Users\\rossd\\OneDrive\\Documents\\UGA MSBA\\Spring 2022\\ECON 6760\""
   ]
  },
  {
   "cell_type": "code",
   "execution_count": 184,
   "id": "44c1e7dc",
   "metadata": {},
   "outputs": [],
   "source": [
    "DJIA = pd.read_csv('DJIA.csv')"
   ]
  },
  {
   "cell_type": "code",
   "execution_count": 185,
   "id": "c0ef37ad",
   "metadata": {},
   "outputs": [],
   "source": [
    "DJIA_close = DJIA[['Date','Close']]"
   ]
  },
  {
   "cell_type": "code",
   "execution_count": 186,
   "id": "ffd5c82a",
   "metadata": {},
   "outputs": [],
   "source": [
    "DJIA_close = DJIA_close.set_index('Date')"
   ]
  },
  {
   "cell_type": "code",
   "execution_count": 187,
   "id": "6653a9fd",
   "metadata": {},
   "outputs": [],
   "source": [
    "DJIA_close['Log'] = DJIA_close.apply(np.log)"
   ]
  },
  {
   "cell_type": "code",
   "execution_count": 188,
   "id": "5b8321b3",
   "metadata": {},
   "outputs": [],
   "source": [
    "DJIA_close['Log Diff'] = DJIA_close['Log'].diff(1)"
   ]
  },
  {
   "cell_type": "code",
   "execution_count": 189,
   "id": "55b629e2",
   "metadata": {},
   "outputs": [
    {
     "data": {
      "text/html": [
       "<div>\n",
       "<style scoped>\n",
       "    .dataframe tbody tr th:only-of-type {\n",
       "        vertical-align: middle;\n",
       "    }\n",
       "\n",
       "    .dataframe tbody tr th {\n",
       "        vertical-align: top;\n",
       "    }\n",
       "\n",
       "    .dataframe thead th {\n",
       "        text-align: right;\n",
       "    }\n",
       "</style>\n",
       "<table border=\"1\" class=\"dataframe\">\n",
       "  <thead>\n",
       "    <tr style=\"text-align: right;\">\n",
       "      <th></th>\n",
       "      <th>Close</th>\n",
       "      <th>Log</th>\n",
       "      <th>Log Diff</th>\n",
       "    </tr>\n",
       "    <tr>\n",
       "      <th>Date</th>\n",
       "      <th></th>\n",
       "      <th></th>\n",
       "      <th></th>\n",
       "    </tr>\n",
       "  </thead>\n",
       "  <tbody>\n",
       "    <tr>\n",
       "      <th>1/8/2021</th>\n",
       "      <td>31097.97</td>\n",
       "      <td>10.344898</td>\n",
       "      <td>NaN</td>\n",
       "    </tr>\n",
       "    <tr>\n",
       "      <th>1/15/2021</th>\n",
       "      <td>30814.26</td>\n",
       "      <td>10.335733</td>\n",
       "      <td>-0.009165</td>\n",
       "    </tr>\n",
       "    <tr>\n",
       "      <th>1/22/2021</th>\n",
       "      <td>30996.98</td>\n",
       "      <td>10.341645</td>\n",
       "      <td>0.005912</td>\n",
       "    </tr>\n",
       "    <tr>\n",
       "      <th>1/29/2021</th>\n",
       "      <td>29982.62</td>\n",
       "      <td>10.308373</td>\n",
       "      <td>-0.033272</td>\n",
       "    </tr>\n",
       "    <tr>\n",
       "      <th>2/5/2021</th>\n",
       "      <td>31148.24</td>\n",
       "      <td>10.346513</td>\n",
       "      <td>0.038140</td>\n",
       "    </tr>\n",
       "  </tbody>\n",
       "</table>\n",
       "</div>"
      ],
      "text/plain": [
       "              Close        Log  Log Diff\n",
       "Date                                    \n",
       "1/8/2021   31097.97  10.344898       NaN\n",
       "1/15/2021  30814.26  10.335733 -0.009165\n",
       "1/22/2021  30996.98  10.341645  0.005912\n",
       "1/29/2021  29982.62  10.308373 -0.033272\n",
       "2/5/2021   31148.24  10.346513  0.038140"
      ]
     },
     "execution_count": 189,
     "metadata": {},
     "output_type": "execute_result"
    }
   ],
   "source": [
    "DJIA_close.head()"
   ]
  },
  {
   "cell_type": "code",
   "execution_count": 206,
   "id": "a2b777a7",
   "metadata": {},
   "outputs": [],
   "source": [
    "array_dj = DJIA_close['Log Diff'].array"
   ]
  },
  {
   "cell_type": "code",
   "execution_count": 207,
   "id": "1029e15d",
   "metadata": {},
   "outputs": [
    {
     "data": {
      "text/plain": [
       "<PandasArray>\n",
       "[                   nan,   -0.00916497389579618,   0.005912210537633911,\n",
       "   -0.03327189993430757,   0.038139862384237944,   0.009908295269468681,\n",
       "  0.0011411740079889654,   -0.01800400371438471,   0.018066870217387176,\n",
       "    0.03990700512724921,  -0.004607187760143461,   0.013543715214694885,\n",
       "   0.002425933326161811,   0.019339009287621778,   0.011766680709232702,\n",
       "  -0.004606409630760311, -0.0049659737433991324,   0.026305250875912733,\n",
       "   -0.01144114936131757,  -0.005082095097154848,   0.009357725533428507,\n",
       "   0.006550856901483826,  -0.007995595198007521,   -0.03510839009201838,\n",
       "      0.033780347065127,    0.01018526668111086,  0.0024063806941523325,\n",
       "  -0.005241967602659159,    0.01071560689586093,  -0.003602442971178732,\n",
       "   0.007785169277598314,   0.008678027348762996,  -0.011192795428232927,\n",
       "   0.009513803646035157, -0.0024485754463619003,  -0.021761496305236605,\n",
       " -0.0006601862288615479,   0.006143321530299062,  -0.013643428519284129,\n",
       "   0.012155167173398596,   0.015662858475673502,   0.010772273050120518,\n",
       "   0.003987328872264939,   0.014093304529183115, -0.0062859648862971795,\n",
       "  -0.013900198270691888,  -0.019933336434114324,  -0.009190124126311261,\n",
       "    0.03943498653609723,  -0.016977708174380268,    0.01640958914609314,\n",
       "    0.01072762023024687]\n",
       "Length: 52, dtype: float64"
      ]
     },
     "execution_count": 207,
     "metadata": {},
     "output_type": "execute_result"
    }
   ],
   "source": [
    "array_dj"
   ]
  },
  {
   "cell_type": "code",
   "execution_count": 208,
   "id": "80e502eb",
   "metadata": {},
   "outputs": [
    {
     "data": {
      "image/png": "[encoded data removed]",
      "text/plain": [
       "<Figure size 432x288 with 1 Axes>"
      ]
     },
     "metadata": {
      "needs_background": "light"
     },
     "output_type": "display_data"
    }
   ],
   "source": [
    "from matplotlib import pyplot\n",
    "from statsmodels.graphics.tsaplots import plot_acf\n",
    "plot_acf(array_dj[1:], lags=12)\n",
    "pyplot.show()"
   ]
  },
  {
   "cell_type": "code",
   "execution_count": 209,
   "id": "6c7d717f",
   "metadata": {},
   "outputs": [
    {
     "name": "stderr",
     "output_type": "stream",
     "text": [
      "C:\\Users\\rossd\\Anaconda3\\lib\\site-packages\\statsmodels\\tsa\\stattools.py:667: FutureWarning: fft=True will become the default after the release of the 0.12 release of statsmodels. To suppress this warning, explicitly set fft=False.\n",
      "  warnings.warn(\n"
     ]
    },
    {
     "data": {
      "text/plain": [
       "array([ 1.        , -0.21208126, -0.13992309, -0.01137658,  0.16378477,\n",
       "       -0.03661895, -0.26258648,  0.04756282,  0.01164214,  0.13305671,\n",
       "       -0.23541734,  0.11081672,  0.08697488])"
      ]
     },
     "execution_count": 209,
     "metadata": {},
     "output_type": "execute_result"
    }
   ],
   "source": [
    "import statsmodels.api as sm\n",
    "\n",
    "#calculate autocorrelations\n",
    "dj_ac = sm.tsa.acf(array_dj[1:], nlags=12, adjusted = True)\n",
    "dj_ac"
   ]
  },
  {
   "cell_type": "code",
   "execution_count": 210,
   "id": "97b7c932",
   "metadata": {},
   "outputs": [
    {
     "name": "stderr",
     "output_type": "stream",
     "text": [
      "C:\\Users\\rossd\\Anaconda3\\lib\\site-packages\\statsmodels\\tsa\\stattools.py:441: FutureWarning: fft=True will become the default after the release of the 0.12 release of statsmodels. To suppress this warning, explicitly set fft=False.\n",
      "  warnings.warn(msg, FutureWarning)\n"
     ]
    },
    {
     "data": {
      "text/plain": [
       "array([ 2.69012953e-04, -5.70526066e-05, -3.76411231e-05, -3.06044674e-06,\n",
       "        4.40602233e-05, -9.85097235e-06, -7.06391645e-05,  1.27950149e-05,\n",
       "        3.13188663e-06,  3.57939772e-05, -6.33303127e-05,  2.98111321e-05,\n",
       "        2.33973693e-05])"
      ]
     },
     "execution_count": 210,
     "metadata": {},
     "output_type": "execute_result"
    }
   ],
   "source": [
    "#autocovariances\n",
    "sm.tsa.stattools.acovf(array_dj[1:], nlag=12, adjusted = True)"
   ]
  },
  {
   "cell_type": "markdown",
   "id": "05b1540e",
   "metadata": {},
   "source": [
    "## DJIA 2"
   ]
  },
  {
   "cell_type": "code",
   "execution_count": 211,
   "id": "41a8f488",
   "metadata": {},
   "outputs": [
    {
     "name": "stdout",
     "output_type": "stream",
     "text": [
      "[*********************100%***********************]  1 of 1 completed\n"
     ]
    }
   ],
   "source": [
    "# Import yfinance\n",
    "import yfinance as yf\n",
    "\n",
    "# Import pandas\n",
    "import pandas as pd\n",
    "\n",
    "# Download the datafile from yfinance\n",
    "data = yf.download(\"DJIA\", start=\"2000-01-01\", end=\"2021-12-31\")[['Close']]\n",
    "data.index = pd.to_datetime(data.index)"
   ]
  },
  {
   "cell_type": "code",
   "execution_count": 233,
   "id": "b32ddd4d",
   "metadata": {},
   "outputs": [
    {
     "data": {
      "text/html": [
       "<div>\n",
       "<style scoped>\n",
       "    .dataframe tbody tr th:only-of-type {\n",
       "        vertical-align: middle;\n",
       "    }\n",
       "\n",
       "    .dataframe tbody tr th {\n",
       "        vertical-align: top;\n",
       "    }\n",
       "\n",
       "    .dataframe thead th {\n",
       "        text-align: right;\n",
       "    }\n",
       "</style>\n",
       "<table border=\"1\" class=\"dataframe\">\n",
       "  <thead>\n",
       "    <tr style=\"text-align: right;\">\n",
       "      <th></th>\n",
       "      <th>Close</th>\n",
       "    </tr>\n",
       "    <tr>\n",
       "      <th>Date</th>\n",
       "      <th></th>\n",
       "    </tr>\n",
       "  </thead>\n",
       "  <tbody>\n",
       "    <tr>\n",
       "      <th>2000-01-03</th>\n",
       "      <td>11357.509766</td>\n",
       "    </tr>\n",
       "    <tr>\n",
       "      <th>2000-01-04</th>\n",
       "      <td>10997.929688</td>\n",
       "    </tr>\n",
       "    <tr>\n",
       "      <th>2000-01-05</th>\n",
       "      <td>11122.650391</td>\n",
       "    </tr>\n",
       "    <tr>\n",
       "      <th>2000-01-06</th>\n",
       "      <td>11253.259766</td>\n",
       "    </tr>\n",
       "    <tr>\n",
       "      <th>2000-01-07</th>\n",
       "      <td>11522.559570</td>\n",
       "    </tr>\n",
       "    <tr>\n",
       "      <th>2000-01-10</th>\n",
       "      <td>11572.200195</td>\n",
       "    </tr>\n",
       "    <tr>\n",
       "      <th>2000-01-11</th>\n",
       "      <td>11511.080078</td>\n",
       "    </tr>\n",
       "    <tr>\n",
       "      <th>2000-01-12</th>\n",
       "      <td>11551.099609</td>\n",
       "    </tr>\n",
       "    <tr>\n",
       "      <th>2000-01-13</th>\n",
       "      <td>11582.429688</td>\n",
       "    </tr>\n",
       "    <tr>\n",
       "      <th>2000-01-14</th>\n",
       "      <td>11722.980469</td>\n",
       "    </tr>\n",
       "  </tbody>\n",
       "</table>\n",
       "</div>"
      ],
      "text/plain": [
       "                   Close\n",
       "Date                    \n",
       "2000-01-03  11357.509766\n",
       "2000-01-04  10997.929688\n",
       "2000-01-05  11122.650391\n",
       "2000-01-06  11253.259766\n",
       "2000-01-07  11522.559570\n",
       "2000-01-10  11572.200195\n",
       "2000-01-11  11511.080078\n",
       "2000-01-12  11551.099609\n",
       "2000-01-13  11582.429688\n",
       "2000-01-14  11722.980469"
      ]
     },
     "execution_count": 233,
     "metadata": {},
     "output_type": "execute_result"
    }
   ],
   "source": [
    "data[0:10]"
   ]
  },
  {
   "cell_type": "code",
   "execution_count": 234,
   "id": "012b4d86",
   "metadata": {},
   "outputs": [],
   "source": [
    "data2 = data.resample('W').last()"
   ]
  },
  {
   "cell_type": "code",
   "execution_count": 236,
   "id": "cd011987",
   "metadata": {},
   "outputs": [],
   "source": [
    "data2['Log'] = data2.apply(np.log)"
   ]
  },
  {
   "cell_type": "code",
   "execution_count": 237,
   "id": "7d6975df",
   "metadata": {},
   "outputs": [],
   "source": [
    "data2['Log Diff'] = data2['Log'].diff(1)"
   ]
  },
  {
   "cell_type": "code",
   "execution_count": 239,
   "id": "00a2c7ec",
   "metadata": {},
   "outputs": [
    {
     "data": {
      "text/html": [
       "<div>\n",
       "<style scoped>\n",
       "    .dataframe tbody tr th:only-of-type {\n",
       "        vertical-align: middle;\n",
       "    }\n",
       "\n",
       "    .dataframe tbody tr th {\n",
       "        vertical-align: top;\n",
       "    }\n",
       "\n",
       "    .dataframe thead th {\n",
       "        text-align: right;\n",
       "    }\n",
       "</style>\n",
       "<table border=\"1\" class=\"dataframe\">\n",
       "  <thead>\n",
       "    <tr style=\"text-align: right;\">\n",
       "      <th></th>\n",
       "      <th>Close</th>\n",
       "      <th>Log</th>\n",
       "      <th>Log Diff</th>\n",
       "    </tr>\n",
       "    <tr>\n",
       "      <th>Date</th>\n",
       "      <th></th>\n",
       "      <th></th>\n",
       "      <th></th>\n",
       "    </tr>\n",
       "  </thead>\n",
       "  <tbody>\n",
       "    <tr>\n",
       "      <th>2000-01-09</th>\n",
       "      <td>11522.559570</td>\n",
       "      <td>9.352062</td>\n",
       "      <td>NaN</td>\n",
       "    </tr>\n",
       "    <tr>\n",
       "      <th>2000-01-16</th>\n",
       "      <td>11722.980469</td>\n",
       "      <td>9.369306</td>\n",
       "      <td>0.017244</td>\n",
       "    </tr>\n",
       "    <tr>\n",
       "      <th>2000-01-23</th>\n",
       "      <td>11251.709961</td>\n",
       "      <td>9.328275</td>\n",
       "      <td>-0.041031</td>\n",
       "    </tr>\n",
       "    <tr>\n",
       "      <th>2000-01-30</th>\n",
       "      <td>10738.870117</td>\n",
       "      <td>9.281625</td>\n",
       "      <td>-0.046650</td>\n",
       "    </tr>\n",
       "    <tr>\n",
       "      <th>2000-02-06</th>\n",
       "      <td>10963.799805</td>\n",
       "      <td>9.302354</td>\n",
       "      <td>0.020729</td>\n",
       "    </tr>\n",
       "  </tbody>\n",
       "</table>\n",
       "</div>"
      ],
      "text/plain": [
       "                   Close       Log  Log Diff\n",
       "Date                                        \n",
       "2000-01-09  11522.559570  9.352062       NaN\n",
       "2000-01-16  11722.980469  9.369306  0.017244\n",
       "2000-01-23  11251.709961  9.328275 -0.041031\n",
       "2000-01-30  10738.870117  9.281625 -0.046650\n",
       "2000-02-06  10963.799805  9.302354  0.020729"
      ]
     },
     "execution_count": 239,
     "metadata": {},
     "output_type": "execute_result"
    }
   ],
   "source": [
    "data2.head()"
   ]
  },
  {
   "cell_type": "code",
   "execution_count": 249,
   "id": "77563b93",
   "metadata": {},
   "outputs": [],
   "source": [
    "array_data2 = data2['Log Diff'].array"
   ]
  },
  {
   "cell_type": "code",
   "execution_count": 267,
   "id": "41b2f095",
   "metadata": {},
   "outputs": [],
   "source": [
    "last_52 = array_data2[-52:]"
   ]
  },
  {
   "cell_type": "code",
   "execution_count": 268,
   "id": "37adc9d1",
   "metadata": {},
   "outputs": [
    {
     "data": {
      "image/png": "[encoded data removed]",
      "text/plain": [
       "<Figure size 432x288 with 1 Axes>"
      ]
     },
     "metadata": {
      "needs_background": "light"
     },
     "output_type": "display_data"
    }
   ],
   "source": [
    "from matplotlib import pyplot\n",
    "from statsmodels.graphics.tsaplots import plot_acf\n",
    "plot_acf(last_52[1:], lags=12)\n",
    "pyplot.show()"
   ]
  },
  {
   "cell_type": "code",
   "execution_count": 269,
   "id": "557fdc0a",
   "metadata": {},
   "outputs": [
    {
     "name": "stderr",
     "output_type": "stream",
     "text": [
      "C:\\Users\\rossd\\Anaconda3\\lib\\site-packages\\statsmodels\\tsa\\stattools.py:667: FutureWarning: fft=True will become the default after the release of the 0.12 release of statsmodels. To suppress this warning, explicitly set fft=False.\n",
      "  warnings.warn(\n"
     ]
    },
    {
     "data": {
      "text/plain": [
       "array([ 1.        , -0.21985272, -0.17898882, -0.03731422,  0.24480215,\n",
       "        0.0386277 , -0.22080108,  0.04091437, -0.09649163,  0.17610658,\n",
       "       -0.18851965, -0.01309792,  0.07666779,  0.12867184, -0.29107465,\n",
       "        0.13603736,  0.18644686, -0.00648728, -0.19625754, -0.03318268,\n",
       "        0.21640265, -0.17993137,  0.08381919, -0.14274278, -0.01837935,\n",
       "       -0.01204552,  0.01924237, -0.0562827 , -0.02312049,  0.05578683,\n",
       "       -0.05132729,  0.03557062,  0.0697506 , -0.01417641, -0.01203037,\n",
       "        0.03989264, -0.04893187,  0.00750774, -0.02269605,  0.02516231,\n",
       "       -0.06144109,  0.03235539,  0.01919387,  0.00391799, -0.00196158,\n",
       "       -0.01474352,  0.00374287, -0.00812167,  0.01420499, -0.0024571 ,\n",
       "       -0.00236732])"
      ]
     },
     "execution_count": 269,
     "metadata": {},
     "output_type": "execute_result"
    }
   ],
   "source": [
    "import statsmodels.api as sm\n",
    "\n",
    "#calculate autocorrelations\n",
    "data2_ac = sm.tsa.acf(last_52[1:], nlags=52,adjusted = False)\n",
    "data2_ac"
   ]
  },
  {
   "cell_type": "code",
   "execution_count": 263,
   "id": "07285271",
   "metadata": {},
   "outputs": [
    {
     "data": {
      "text/plain": [
       "-2.4845730287188372"
      ]
     },
     "execution_count": 263,
     "metadata": {},
     "output_type": "execute_result"
    }
   ],
   "source": [
    "data2_ac[1]*len(data2['Close'])**.5"
   ]
  },
  {
   "cell_type": "code",
   "execution_count": 264,
   "id": "d233f2e6",
   "metadata": {},
   "outputs": [
    {
     "data": {
      "text/plain": [
       "-0.07352223733466276"
      ]
     },
     "execution_count": 264,
     "metadata": {},
     "output_type": "execute_result"
    }
   ],
   "source": [
    "data2_ac[1]"
   ]
  }
 ],
 "metadata": {
  "kernelspec": {
   "display_name": "Python 3",
   "language": "python",
   "name": "python3"
  },
  "language_info": {
   "codemirror_mode": {
    "name": "ipython",
    "version": 3
   },
   "file_extension": ".py",
   "mimetype": "text/x-python",
   "name": "python",
   "nbconvert_exporter": "python",
   "pygments_lexer": "ipython3",
   "version": "3.8.8"
  }
 },
 "nbformat": 4,
 "nbformat_minor": 5
}
