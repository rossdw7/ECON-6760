{
 "cells": [
  {
   "cell_type": "markdown",
   "id": "5d0630d2",
   "metadata": {},
   "source": [
    "### Problem 2"
   ]
  },
  {
   "cell_type": "code",
   "execution_count": 32,
   "id": "d3cee8a4",
   "metadata": {},
   "outputs": [],
   "source": [
    "#long term interest rates equal the average of expected future short term rates"
   ]
  },
  {
   "cell_type": "code",
   "execution_count": 33,
   "id": "382e3f9e",
   "metadata": {},
   "outputs": [],
   "source": [
    "#assume short term rates follow random walk"
   ]
  },
  {
   "cell_type": "code",
   "execution_count": 34,
   "id": "3d0781fa",
   "metadata": {},
   "outputs": [],
   "source": [
    "import pandas_datareader as pdr\n",
    "import pandas as pd\n",
    "import datetime\n",
    "import numpy as np\n",
    "import math\n",
    "import matplotlib.pyplot as plt\n",
    "import statsmodels.formula.api as smf\n",
    "from statsmodels.tsa.stattools import acf\n",
    "from statsmodels.graphics.tsaplots import plot_acf\n",
    "from statsmodels.tsa.stattools import acovf"
   ]
  },
  {
   "cell_type": "code",
   "execution_count": 35,
   "id": "20734f38",
   "metadata": {},
   "outputs": [],
   "source": [
    "start = datetime.datetime (1960, 1, 1)\n",
    "end = datetime.datetime (2022, 1, 31)\n",
    "\n",
    "gs10 = pdr.DataReader(['GS10'], 'fred', start, end)\n",
    "gs1 = pdr.DataReader(['GS1'], 'fred', start, end)\n",
    "fedfunds = pdr.DataReader(['FEDFUNDS'], 'fred', start, end)"
   ]
  },
  {
   "cell_type": "code",
   "execution_count": 36,
   "id": "f11e2fb5",
   "metadata": {},
   "outputs": [],
   "source": [
    "fedfunds['lag'] = fedfunds.shift(1)"
   ]
  },
  {
   "cell_type": "code",
   "execution_count": 38,
   "id": "f421280f",
   "metadata": {},
   "outputs": [
    {
     "data": {
      "text/html": [
       "<div>\n",
       "<style scoped>\n",
       "    .dataframe tbody tr th:only-of-type {\n",
       "        vertical-align: middle;\n",
       "    }\n",
       "\n",
       "    .dataframe tbody tr th {\n",
       "        vertical-align: top;\n",
       "    }\n",
       "\n",
       "    .dataframe thead th {\n",
       "        text-align: right;\n",
       "    }\n",
       "</style>\n",
       "<table border=\"1\" class=\"dataframe\">\n",
       "  <thead>\n",
       "    <tr style=\"text-align: right;\">\n",
       "      <th></th>\n",
       "      <th>FEDFUNDS</th>\n",
       "      <th>lag</th>\n",
       "    </tr>\n",
       "    <tr>\n",
       "      <th>DATE</th>\n",
       "      <th></th>\n",
       "      <th></th>\n",
       "    </tr>\n",
       "  </thead>\n",
       "  <tbody>\n",
       "    <tr>\n",
       "      <th>1960-01-01</th>\n",
       "      <td>3.99</td>\n",
       "      <td>NaN</td>\n",
       "    </tr>\n",
       "    <tr>\n",
       "      <th>1960-02-01</th>\n",
       "      <td>3.97</td>\n",
       "      <td>3.99</td>\n",
       "    </tr>\n",
       "    <tr>\n",
       "      <th>1960-03-01</th>\n",
       "      <td>3.84</td>\n",
       "      <td>3.97</td>\n",
       "    </tr>\n",
       "    <tr>\n",
       "      <th>1960-04-01</th>\n",
       "      <td>3.92</td>\n",
       "      <td>3.84</td>\n",
       "    </tr>\n",
       "    <tr>\n",
       "      <th>1960-05-01</th>\n",
       "      <td>3.85</td>\n",
       "      <td>3.92</td>\n",
       "    </tr>\n",
       "    <tr>\n",
       "      <th>...</th>\n",
       "      <td>...</td>\n",
       "      <td>...</td>\n",
       "    </tr>\n",
       "    <tr>\n",
       "      <th>2021-09-01</th>\n",
       "      <td>0.08</td>\n",
       "      <td>0.09</td>\n",
       "    </tr>\n",
       "    <tr>\n",
       "      <th>2021-10-01</th>\n",
       "      <td>0.08</td>\n",
       "      <td>0.08</td>\n",
       "    </tr>\n",
       "    <tr>\n",
       "      <th>2021-11-01</th>\n",
       "      <td>0.08</td>\n",
       "      <td>0.08</td>\n",
       "    </tr>\n",
       "    <tr>\n",
       "      <th>2021-12-01</th>\n",
       "      <td>0.08</td>\n",
       "      <td>0.08</td>\n",
       "    </tr>\n",
       "    <tr>\n",
       "      <th>2022-01-01</th>\n",
       "      <td>0.08</td>\n",
       "      <td>0.08</td>\n",
       "    </tr>\n",
       "  </tbody>\n",
       "</table>\n",
       "<p>745 rows × 2 columns</p>\n",
       "</div>"
      ],
      "text/plain": [
       "            FEDFUNDS   lag\n",
       "DATE                      \n",
       "1960-01-01      3.99   NaN\n",
       "1960-02-01      3.97  3.99\n",
       "1960-03-01      3.84  3.97\n",
       "1960-04-01      3.92  3.84\n",
       "1960-05-01      3.85  3.92\n",
       "...              ...   ...\n",
       "2021-09-01      0.08  0.09\n",
       "2021-10-01      0.08  0.08\n",
       "2021-11-01      0.08  0.08\n",
       "2021-12-01      0.08  0.08\n",
       "2022-01-01      0.08  0.08\n",
       "\n",
       "[745 rows x 2 columns]"
      ]
     },
     "execution_count": 38,
     "metadata": {},
     "output_type": "execute_result"
    }
   ],
   "source": [
    "fedfunds"
   ]
  },
  {
   "cell_type": "code",
   "execution_count": 39,
   "id": "ba093e44",
   "metadata": {},
   "outputs": [
    {
     "data": {
      "text/html": [
       "<div>\n",
       "<style scoped>\n",
       "    .dataframe tbody tr th:only-of-type {\n",
       "        vertical-align: middle;\n",
       "    }\n",
       "\n",
       "    .dataframe tbody tr th {\n",
       "        vertical-align: top;\n",
       "    }\n",
       "\n",
       "    .dataframe thead th {\n",
       "        text-align: right;\n",
       "    }\n",
       "</style>\n",
       "<table border=\"1\" class=\"dataframe\">\n",
       "  <thead>\n",
       "    <tr style=\"text-align: right;\">\n",
       "      <th></th>\n",
       "      <th>FEDFUNDS</th>\n",
       "      <th>lag</th>\n",
       "      <th>GS10</th>\n",
       "    </tr>\n",
       "    <tr>\n",
       "      <th>DATE</th>\n",
       "      <th></th>\n",
       "      <th></th>\n",
       "      <th></th>\n",
       "    </tr>\n",
       "  </thead>\n",
       "  <tbody>\n",
       "    <tr>\n",
       "      <th>1960-01-01</th>\n",
       "      <td>3.99</td>\n",
       "      <td>NaN</td>\n",
       "      <td>4.72</td>\n",
       "    </tr>\n",
       "    <tr>\n",
       "      <th>1960-02-01</th>\n",
       "      <td>3.97</td>\n",
       "      <td>3.99</td>\n",
       "      <td>4.49</td>\n",
       "    </tr>\n",
       "    <tr>\n",
       "      <th>1960-03-01</th>\n",
       "      <td>3.84</td>\n",
       "      <td>3.97</td>\n",
       "      <td>4.25</td>\n",
       "    </tr>\n",
       "    <tr>\n",
       "      <th>1960-04-01</th>\n",
       "      <td>3.92</td>\n",
       "      <td>3.84</td>\n",
       "      <td>4.28</td>\n",
       "    </tr>\n",
       "    <tr>\n",
       "      <th>1960-05-01</th>\n",
       "      <td>3.85</td>\n",
       "      <td>3.92</td>\n",
       "      <td>4.35</td>\n",
       "    </tr>\n",
       "  </tbody>\n",
       "</table>\n",
       "</div>"
      ],
      "text/plain": [
       "            FEDFUNDS   lag  GS10\n",
       "DATE                            \n",
       "1960-01-01      3.99   NaN  4.72\n",
       "1960-02-01      3.97  3.99  4.49\n",
       "1960-03-01      3.84  3.97  4.25\n",
       "1960-04-01      3.92  3.84  4.28\n",
       "1960-05-01      3.85  3.92  4.35"
      ]
     },
     "execution_count": 39,
     "metadata": {},
     "output_type": "execute_result"
    }
   ],
   "source": [
    "#combine gs10\n",
    "\n",
    "new_df = pd.merge(left = fedfunds, right = gs10, left_index = True, right_index = True, how = \"inner\")\n",
    "new_df.head()"
   ]
  },
  {
   "cell_type": "code",
   "execution_count": 40,
   "id": "458fc608",
   "metadata": {},
   "outputs": [
    {
     "data": {
      "text/html": [
       "<div>\n",
       "<style scoped>\n",
       "    .dataframe tbody tr th:only-of-type {\n",
       "        vertical-align: middle;\n",
       "    }\n",
       "\n",
       "    .dataframe tbody tr th {\n",
       "        vertical-align: top;\n",
       "    }\n",
       "\n",
       "    .dataframe thead th {\n",
       "        text-align: right;\n",
       "    }\n",
       "</style>\n",
       "<table border=\"1\" class=\"dataframe\">\n",
       "  <thead>\n",
       "    <tr style=\"text-align: right;\">\n",
       "      <th></th>\n",
       "      <th>FEDFUNDS</th>\n",
       "      <th>lag</th>\n",
       "      <th>GS10</th>\n",
       "      <th>GS1</th>\n",
       "    </tr>\n",
       "    <tr>\n",
       "      <th>DATE</th>\n",
       "      <th></th>\n",
       "      <th></th>\n",
       "      <th></th>\n",
       "      <th></th>\n",
       "    </tr>\n",
       "  </thead>\n",
       "  <tbody>\n",
       "    <tr>\n",
       "      <th>1960-01-01</th>\n",
       "      <td>3.99</td>\n",
       "      <td>NaN</td>\n",
       "      <td>4.72</td>\n",
       "      <td>5.03</td>\n",
       "    </tr>\n",
       "    <tr>\n",
       "      <th>1960-02-01</th>\n",
       "      <td>3.97</td>\n",
       "      <td>3.99</td>\n",
       "      <td>4.49</td>\n",
       "      <td>4.66</td>\n",
       "    </tr>\n",
       "    <tr>\n",
       "      <th>1960-03-01</th>\n",
       "      <td>3.84</td>\n",
       "      <td>3.97</td>\n",
       "      <td>4.25</td>\n",
       "      <td>4.02</td>\n",
       "    </tr>\n",
       "    <tr>\n",
       "      <th>1960-04-01</th>\n",
       "      <td>3.92</td>\n",
       "      <td>3.84</td>\n",
       "      <td>4.28</td>\n",
       "      <td>4.04</td>\n",
       "    </tr>\n",
       "    <tr>\n",
       "      <th>1960-05-01</th>\n",
       "      <td>3.85</td>\n",
       "      <td>3.92</td>\n",
       "      <td>4.35</td>\n",
       "      <td>4.21</td>\n",
       "    </tr>\n",
       "  </tbody>\n",
       "</table>\n",
       "</div>"
      ],
      "text/plain": [
       "            FEDFUNDS   lag  GS10   GS1\n",
       "DATE                                  \n",
       "1960-01-01      3.99   NaN  4.72  5.03\n",
       "1960-02-01      3.97  3.99  4.49  4.66\n",
       "1960-03-01      3.84  3.97  4.25  4.02\n",
       "1960-04-01      3.92  3.84  4.28  4.04\n",
       "1960-05-01      3.85  3.92  4.35  4.21"
      ]
     },
     "execution_count": 40,
     "metadata": {},
     "output_type": "execute_result"
    }
   ],
   "source": [
    "#combine gs1\n",
    "\n",
    "new_df2 = pd.merge(left = new_df, right = gs1, left_index = True, right_index = True, how = \"inner\")\n",
    "new_df2.head()\n"
   ]
  },
  {
   "cell_type": "markdown",
   "id": "3ff3f094",
   "metadata": {},
   "source": [
    "### (a)"
   ]
  },
  {
   "cell_type": "code",
   "execution_count": 44,
   "id": "812c233e",
   "metadata": {},
   "outputs": [
    {
     "data": {
      "text/plain": [
       "4.834067114093962"
      ]
     },
     "execution_count": 44,
     "metadata": {},
     "output_type": "execute_result"
    }
   ],
   "source": [
    "fedfunds['FEDFUNDS'].mean()"
   ]
  },
  {
   "cell_type": "code",
   "execution_count": 42,
   "id": "58ef5a71",
   "metadata": {},
   "outputs": [
    {
     "data": {
      "text/plain": [
       "GS10    5.886148\n",
       "dtype: float64"
      ]
     },
     "execution_count": 42,
     "metadata": {},
     "output_type": "execute_result"
    }
   ],
   "source": [
    "gs10.mean()"
   ]
  },
  {
   "cell_type": "code",
   "execution_count": 43,
   "id": "5a90f6ca",
   "metadata": {},
   "outputs": [
    {
     "data": {
      "text/plain": [
       "GS1    4.880134\n",
       "dtype: float64"
      ]
     },
     "execution_count": 43,
     "metadata": {},
     "output_type": "execute_result"
    }
   ],
   "source": [
    "gs1.mean()"
   ]
  },
  {
   "cell_type": "markdown",
   "id": "786708ec",
   "metadata": {},
   "source": [
    "### (b)"
   ]
  },
  {
   "cell_type": "code",
   "execution_count": null,
   "id": "caaa55cc",
   "metadata": {},
   "outputs": [],
   "source": [
    "#estimate 4 regressions using the data"
   ]
  },
  {
   "cell_type": "code",
   "execution_count": 45,
   "id": "3c45fb94",
   "metadata": {},
   "outputs": [
    {
     "data": {
      "text/html": [
       "<table class=\"simpletable\">\n",
       "<caption>OLS Regression Results</caption>\n",
       "<tr>\n",
       "  <th>Dep. Variable:</th>           <td>GS1</td>       <th>  R-squared:         </th> <td>   0.962</td> \n",
       "</tr>\n",
       "<tr>\n",
       "  <th>Model:</th>                   <td>OLS</td>       <th>  Adj. R-squared:    </th> <td>   0.962</td> \n",
       "</tr>\n",
       "<tr>\n",
       "  <th>Method:</th>             <td>Least Squares</td>  <th>  F-statistic:       </th> <td>1.895e+04</td>\n",
       "</tr>\n",
       "<tr>\n",
       "  <th>Date:</th>             <td>Tue, 08 Feb 2022</td> <th>  Prob (F-statistic):</th>  <td>  0.00</td>  \n",
       "</tr>\n",
       "<tr>\n",
       "  <th>Time:</th>                 <td>15:38:18</td>     <th>  Log-Likelihood:    </th> <td> -750.06</td> \n",
       "</tr>\n",
       "<tr>\n",
       "  <th>No. Observations:</th>      <td>   745</td>      <th>  AIC:               </th> <td>   1504.</td> \n",
       "</tr>\n",
       "<tr>\n",
       "  <th>Df Residuals:</th>          <td>   743</td>      <th>  BIC:               </th> <td>   1513.</td> \n",
       "</tr>\n",
       "<tr>\n",
       "  <th>Df Model:</th>              <td>     1</td>      <th>                     </th>     <td> </td>    \n",
       "</tr>\n",
       "<tr>\n",
       "  <th>Covariance Type:</th>      <td>nonrobust</td>    <th>                     </th>     <td> </td>    \n",
       "</tr>\n",
       "</table>\n",
       "<table class=\"simpletable\">\n",
       "<tr>\n",
       "      <td></td>         <th>coef</th>     <th>std err</th>      <th>t</th>      <th>P>|t|</th>  <th>[0.025</th>    <th>0.975]</th>  \n",
       "</tr>\n",
       "<tr>\n",
       "  <th>Intercept</th> <td>    0.5146</td> <td>    0.040</td> <td>   12.881</td> <td> 0.000</td> <td>    0.436</td> <td>    0.593</td>\n",
       "</tr>\n",
       "<tr>\n",
       "  <th>FEDFUNDS</th>  <td>    0.9031</td> <td>    0.007</td> <td>  137.662</td> <td> 0.000</td> <td>    0.890</td> <td>    0.916</td>\n",
       "</tr>\n",
       "</table>\n",
       "<table class=\"simpletable\">\n",
       "<tr>\n",
       "  <th>Omnibus:</th>       <td>139.494</td> <th>  Durbin-Watson:     </th> <td>   0.299</td> \n",
       "</tr>\n",
       "<tr>\n",
       "  <th>Prob(Omnibus):</th> <td> 0.000</td>  <th>  Jarque-Bera (JB):  </th> <td> 589.910</td> \n",
       "</tr>\n",
       "<tr>\n",
       "  <th>Skew:</th>          <td>-0.801</td>  <th>  Prob(JB):          </th> <td>7.99e-129</td>\n",
       "</tr>\n",
       "<tr>\n",
       "  <th>Kurtosis:</th>      <td> 7.055</td>  <th>  Cond. No.          </th> <td>    10.2</td> \n",
       "</tr>\n",
       "</table><br/><br/>Notes:<br/>[1] Standard Errors assume that the covariance matrix of the errors is correctly specified."
      ],
      "text/plain": [
       "<class 'statsmodels.iolib.summary.Summary'>\n",
       "\"\"\"\n",
       "                            OLS Regression Results                            \n",
       "==============================================================================\n",
       "Dep. Variable:                    GS1   R-squared:                       0.962\n",
       "Model:                            OLS   Adj. R-squared:                  0.962\n",
       "Method:                 Least Squares   F-statistic:                 1.895e+04\n",
       "Date:                Tue, 08 Feb 2022   Prob (F-statistic):               0.00\n",
       "Time:                        15:38:18   Log-Likelihood:                -750.06\n",
       "No. Observations:                 745   AIC:                             1504.\n",
       "Df Residuals:                     743   BIC:                             1513.\n",
       "Df Model:                           1                                         \n",
       "Covariance Type:            nonrobust                                         \n",
       "==============================================================================\n",
       "                 coef    std err          t      P>|t|      [0.025      0.975]\n",
       "------------------------------------------------------------------------------\n",
       "Intercept      0.5146      0.040     12.881      0.000       0.436       0.593\n",
       "FEDFUNDS       0.9031      0.007    137.662      0.000       0.890       0.916\n",
       "==============================================================================\n",
       "Omnibus:                      139.494   Durbin-Watson:                   0.299\n",
       "Prob(Omnibus):                  0.000   Jarque-Bera (JB):              589.910\n",
       "Skew:                          -0.801   Prob(JB):                    7.99e-129\n",
       "Kurtosis:                       7.055   Cond. No.                         10.2\n",
       "==============================================================================\n",
       "\n",
       "Notes:\n",
       "[1] Standard Errors assume that the covariance matrix of the errors is correctly specified.\n",
       "\"\"\""
      ]
     },
     "execution_count": 45,
     "metadata": {},
     "output_type": "execute_result"
    }
   ],
   "source": [
    "mod1=smf.ols(formula='GS1~FEDFUNDS',data=new_df2).fit()\n",
    "mod1.summary()"
   ]
  },
  {
   "cell_type": "code",
   "execution_count": 46,
   "id": "e7cdc4fd",
   "metadata": {},
   "outputs": [
    {
     "data": {
      "text/html": [
       "<table class=\"simpletable\">\n",
       "<caption>OLS Regression Results</caption>\n",
       "<tr>\n",
       "  <th>Dep. Variable:</th>          <td>GS10</td>       <th>  R-squared:         </th> <td>   0.825</td> \n",
       "</tr>\n",
       "<tr>\n",
       "  <th>Model:</th>                   <td>OLS</td>       <th>  Adj. R-squared:    </th> <td>   0.825</td> \n",
       "</tr>\n",
       "<tr>\n",
       "  <th>Method:</th>             <td>Least Squares</td>  <th>  F-statistic:       </th> <td>   3498.</td> \n",
       "</tr>\n",
       "<tr>\n",
       "  <th>Date:</th>             <td>Tue, 08 Feb 2022</td> <th>  Prob (F-statistic):</th> <td>3.12e-283</td>\n",
       "</tr>\n",
       "<tr>\n",
       "  <th>Time:</th>                 <td>15:38:20</td>     <th>  Log-Likelihood:    </th> <td> -1216.3</td> \n",
       "</tr>\n",
       "<tr>\n",
       "  <th>No. Observations:</th>      <td>   745</td>      <th>  AIC:               </th> <td>   2437.</td> \n",
       "</tr>\n",
       "<tr>\n",
       "  <th>Df Residuals:</th>          <td>   743</td>      <th>  BIC:               </th> <td>   2446.</td> \n",
       "</tr>\n",
       "<tr>\n",
       "  <th>Df Model:</th>              <td>     1</td>      <th>                     </th>     <td> </td>    \n",
       "</tr>\n",
       "<tr>\n",
       "  <th>Covariance Type:</th>      <td>nonrobust</td>    <th>                     </th>     <td> </td>    \n",
       "</tr>\n",
       "</table>\n",
       "<table class=\"simpletable\">\n",
       "<tr>\n",
       "      <td></td>         <th>coef</th>     <th>std err</th>      <th>t</th>      <th>P>|t|</th>  <th>[0.025</th>    <th>0.975]</th>  \n",
       "</tr>\n",
       "<tr>\n",
       "  <th>Intercept</th> <td>    2.3792</td> <td>    0.075</td> <td>   31.850</td> <td> 0.000</td> <td>    2.233</td> <td>    2.526</td>\n",
       "</tr>\n",
       "<tr>\n",
       "  <th>FEDFUNDS</th>  <td>    0.7255</td> <td>    0.012</td> <td>   59.140</td> <td> 0.000</td> <td>    0.701</td> <td>    0.750</td>\n",
       "</tr>\n",
       "</table>\n",
       "<table class=\"simpletable\">\n",
       "<tr>\n",
       "  <th>Omnibus:</th>       <td> 1.713</td> <th>  Durbin-Watson:     </th> <td>   0.093</td>\n",
       "</tr>\n",
       "<tr>\n",
       "  <th>Prob(Omnibus):</th> <td> 0.425</td> <th>  Jarque-Bera (JB):  </th> <td>   1.782</td>\n",
       "</tr>\n",
       "<tr>\n",
       "  <th>Skew:</th>          <td> 0.111</td> <th>  Prob(JB):          </th> <td>   0.410</td>\n",
       "</tr>\n",
       "<tr>\n",
       "  <th>Kurtosis:</th>      <td> 2.911</td> <th>  Cond. No.          </th> <td>    10.2</td>\n",
       "</tr>\n",
       "</table><br/><br/>Notes:<br/>[1] Standard Errors assume that the covariance matrix of the errors is correctly specified."
      ],
      "text/plain": [
       "<class 'statsmodels.iolib.summary.Summary'>\n",
       "\"\"\"\n",
       "                            OLS Regression Results                            \n",
       "==============================================================================\n",
       "Dep. Variable:                   GS10   R-squared:                       0.825\n",
       "Model:                            OLS   Adj. R-squared:                  0.825\n",
       "Method:                 Least Squares   F-statistic:                     3498.\n",
       "Date:                Tue, 08 Feb 2022   Prob (F-statistic):          3.12e-283\n",
       "Time:                        15:38:20   Log-Likelihood:                -1216.3\n",
       "No. Observations:                 745   AIC:                             2437.\n",
       "Df Residuals:                     743   BIC:                             2446.\n",
       "Df Model:                           1                                         \n",
       "Covariance Type:            nonrobust                                         \n",
       "==============================================================================\n",
       "                 coef    std err          t      P>|t|      [0.025      0.975]\n",
       "------------------------------------------------------------------------------\n",
       "Intercept      2.3792      0.075     31.850      0.000       2.233       2.526\n",
       "FEDFUNDS       0.7255      0.012     59.140      0.000       0.701       0.750\n",
       "==============================================================================\n",
       "Omnibus:                        1.713   Durbin-Watson:                   0.093\n",
       "Prob(Omnibus):                  0.425   Jarque-Bera (JB):                1.782\n",
       "Skew:                           0.111   Prob(JB):                        0.410\n",
       "Kurtosis:                       2.911   Cond. No.                         10.2\n",
       "==============================================================================\n",
       "\n",
       "Notes:\n",
       "[1] Standard Errors assume that the covariance matrix of the errors is correctly specified.\n",
       "\"\"\""
      ]
     },
     "execution_count": 46,
     "metadata": {},
     "output_type": "execute_result"
    }
   ],
   "source": [
    "mod2=smf.ols(formula='GS10~FEDFUNDS',data=new_df2).fit()\n",
    "mod2.summary()"
   ]
  },
  {
   "cell_type": "code",
   "execution_count": 48,
   "id": "141e1a02",
   "metadata": {},
   "outputs": [
    {
     "data": {
      "text/html": [
       "<table class=\"simpletable\">\n",
       "<caption>OLS Regression Results</caption>\n",
       "<tr>\n",
       "  <th>Dep. Variable:</th>           <td>GS1</td>       <th>  R-squared:         </th> <td>   0.962</td>\n",
       "</tr>\n",
       "<tr>\n",
       "  <th>Model:</th>                   <td>OLS</td>       <th>  Adj. R-squared:    </th> <td>   0.962</td>\n",
       "</tr>\n",
       "<tr>\n",
       "  <th>Method:</th>             <td>Least Squares</td>  <th>  F-statistic:       </th> <td>   3045.</td>\n",
       "</tr>\n",
       "<tr>\n",
       "  <th>Date:</th>             <td>Tue, 08 Feb 2022</td> <th>  Prob (F-statistic):</th>  <td>  0.00</td> \n",
       "</tr>\n",
       "<tr>\n",
       "  <th>Time:</th>                 <td>15:38:49</td>     <th>  Log-Likelihood:    </th> <td> -748.29</td>\n",
       "</tr>\n",
       "<tr>\n",
       "  <th>No. Observations:</th>      <td>   744</td>      <th>  AIC:               </th> <td>   1503.</td>\n",
       "</tr>\n",
       "<tr>\n",
       "  <th>Df Residuals:</th>          <td>   741</td>      <th>  BIC:               </th> <td>   1516.</td>\n",
       "</tr>\n",
       "<tr>\n",
       "  <th>Df Model:</th>              <td>     2</td>      <th>                     </th>     <td> </td>   \n",
       "</tr>\n",
       "<tr>\n",
       "  <th>Covariance Type:</th>         <td>HC1</td>       <th>                     </th>     <td> </td>   \n",
       "</tr>\n",
       "</table>\n",
       "<table class=\"simpletable\">\n",
       "<tr>\n",
       "      <td></td>         <th>coef</th>     <th>std err</th>      <th>z</th>      <th>P>|z|</th>  <th>[0.025</th>    <th>0.975]</th>  \n",
       "</tr>\n",
       "<tr>\n",
       "  <th>Intercept</th> <td>    0.5109</td> <td>    0.046</td> <td>   11.206</td> <td> 0.000</td> <td>    0.422</td> <td>    0.600</td>\n",
       "</tr>\n",
       "<tr>\n",
       "  <th>FEDFUNDS</th>  <td>    0.8657</td> <td>    0.087</td> <td>    9.951</td> <td> 0.000</td> <td>    0.695</td> <td>    1.036</td>\n",
       "</tr>\n",
       "<tr>\n",
       "  <th>lag</th>       <td>    0.0379</td> <td>    0.085</td> <td>    0.445</td> <td> 0.656</td> <td>   -0.129</td> <td>    0.205</td>\n",
       "</tr>\n",
       "</table>\n",
       "<table class=\"simpletable\">\n",
       "<tr>\n",
       "  <th>Omnibus:</th>       <td>137.223</td> <th>  Durbin-Watson:     </th> <td>   0.292</td> \n",
       "</tr>\n",
       "<tr>\n",
       "  <th>Prob(Omnibus):</th> <td> 0.000</td>  <th>  Jarque-Bera (JB):  </th> <td> 566.830</td> \n",
       "</tr>\n",
       "<tr>\n",
       "  <th>Skew:</th>          <td>-0.795</td>  <th>  Prob(JB):          </th> <td>8.21e-124</td>\n",
       "</tr>\n",
       "<tr>\n",
       "  <th>Kurtosis:</th>      <td> 6.970</td>  <th>  Cond. No.          </th> <td>    24.1</td> \n",
       "</tr>\n",
       "</table><br/><br/>Notes:<br/>[1] Standard Errors are heteroscedasticity robust (HC1)"
      ],
      "text/plain": [
       "<class 'statsmodels.iolib.summary.Summary'>\n",
       "\"\"\"\n",
       "                            OLS Regression Results                            \n",
       "==============================================================================\n",
       "Dep. Variable:                    GS1   R-squared:                       0.962\n",
       "Model:                            OLS   Adj. R-squared:                  0.962\n",
       "Method:                 Least Squares   F-statistic:                     3045.\n",
       "Date:                Tue, 08 Feb 2022   Prob (F-statistic):               0.00\n",
       "Time:                        15:38:49   Log-Likelihood:                -748.29\n",
       "No. Observations:                 744   AIC:                             1503.\n",
       "Df Residuals:                     741   BIC:                             1516.\n",
       "Df Model:                           2                                         \n",
       "Covariance Type:                  HC1                                         \n",
       "==============================================================================\n",
       "                 coef    std err          z      P>|z|      [0.025      0.975]\n",
       "------------------------------------------------------------------------------\n",
       "Intercept      0.5109      0.046     11.206      0.000       0.422       0.600\n",
       "FEDFUNDS       0.8657      0.087      9.951      0.000       0.695       1.036\n",
       "lag            0.0379      0.085      0.445      0.656      -0.129       0.205\n",
       "==============================================================================\n",
       "Omnibus:                      137.223   Durbin-Watson:                   0.292\n",
       "Prob(Omnibus):                  0.000   Jarque-Bera (JB):              566.830\n",
       "Skew:                          -0.795   Prob(JB):                    8.21e-124\n",
       "Kurtosis:                       6.970   Cond. No.                         24.1\n",
       "==============================================================================\n",
       "\n",
       "Notes:\n",
       "[1] Standard Errors are heteroscedasticity robust (HC1)\n",
       "\"\"\""
      ]
     },
     "execution_count": 48,
     "metadata": {},
     "output_type": "execute_result"
    }
   ],
   "source": [
    "mod3=smf.ols(formula='GS1~FEDFUNDS+lag',data=new_df2).fit(cov_type = 'HC1')\n",
    "mod3.summary()"
   ]
  },
  {
   "cell_type": "code",
   "execution_count": 31,
   "id": "5511a461",
   "metadata": {},
   "outputs": [
    {
     "data": {
      "text/html": [
       "<table class=\"simpletable\">\n",
       "<caption>OLS Regression Results</caption>\n",
       "<tr>\n",
       "  <th>Dep. Variable:</th>          <td>GS10</td>       <th>  R-squared:         </th> <td>   0.828</td> \n",
       "</tr>\n",
       "<tr>\n",
       "  <th>Model:</th>                   <td>OLS</td>       <th>  Adj. R-squared:    </th> <td>   0.828</td> \n",
       "</tr>\n",
       "<tr>\n",
       "  <th>Method:</th>             <td>Least Squares</td>  <th>  F-statistic:       </th> <td>   1046.</td> \n",
       "</tr>\n",
       "<tr>\n",
       "  <th>Date:</th>             <td>Mon, 07 Feb 2022</td> <th>  Prob (F-statistic):</th> <td>1.46e-216</td>\n",
       "</tr>\n",
       "<tr>\n",
       "  <th>Time:</th>                 <td>20:36:05</td>     <th>  Log-Likelihood:    </th> <td> -1208.0</td> \n",
       "</tr>\n",
       "<tr>\n",
       "  <th>No. Observations:</th>      <td>   744</td>      <th>  AIC:               </th> <td>   2422.</td> \n",
       "</tr>\n",
       "<tr>\n",
       "  <th>Df Residuals:</th>          <td>   741</td>      <th>  BIC:               </th> <td>   2436.</td> \n",
       "</tr>\n",
       "<tr>\n",
       "  <th>Df Model:</th>              <td>     2</td>      <th>                     </th>     <td> </td>    \n",
       "</tr>\n",
       "<tr>\n",
       "  <th>Covariance Type:</th>         <td>HC1</td>       <th>                     </th>     <td> </td>    \n",
       "</tr>\n",
       "</table>\n",
       "<table class=\"simpletable\">\n",
       "<tr>\n",
       "      <td></td>         <th>coef</th>     <th>std err</th>      <th>z</th>      <th>P>|z|</th>  <th>[0.025</th>    <th>0.975]</th>  \n",
       "</tr>\n",
       "<tr>\n",
       "  <th>Intercept</th> <td>    2.3613</td> <td>    0.070</td> <td>   33.653</td> <td> 0.000</td> <td>    2.224</td> <td>    2.499</td>\n",
       "</tr>\n",
       "<tr>\n",
       "  <th>FEDFUNDS</th>  <td>    0.3903</td> <td>    0.130</td> <td>    3.000</td> <td> 0.003</td> <td>    0.135</td> <td>    0.645</td>\n",
       "</tr>\n",
       "<tr>\n",
       "  <th>lag</th>       <td>    0.3386</td> <td>    0.130</td> <td>    2.597</td> <td> 0.009</td> <td>    0.083</td> <td>    0.594</td>\n",
       "</tr>\n",
       "</table>\n",
       "<table class=\"simpletable\">\n",
       "<tr>\n",
       "  <th>Omnibus:</th>       <td> 2.265</td> <th>  Durbin-Watson:     </th> <td>   0.084</td>\n",
       "</tr>\n",
       "<tr>\n",
       "  <th>Prob(Omnibus):</th> <td> 0.322</td> <th>  Jarque-Bera (JB):  </th> <td>   2.327</td>\n",
       "</tr>\n",
       "<tr>\n",
       "  <th>Skew:</th>          <td> 0.114</td> <th>  Prob(JB):          </th> <td>   0.312</td>\n",
       "</tr>\n",
       "<tr>\n",
       "  <th>Kurtosis:</th>      <td> 2.848</td> <th>  Cond. No.          </th> <td>    24.1</td>\n",
       "</tr>\n",
       "</table><br/><br/>Notes:<br/>[1] Standard Errors are heteroscedasticity robust (HC1)"
      ],
      "text/plain": [
       "<class 'statsmodels.iolib.summary.Summary'>\n",
       "\"\"\"\n",
       "                            OLS Regression Results                            \n",
       "==============================================================================\n",
       "Dep. Variable:                   GS10   R-squared:                       0.828\n",
       "Model:                            OLS   Adj. R-squared:                  0.828\n",
       "Method:                 Least Squares   F-statistic:                     1046.\n",
       "Date:                Mon, 07 Feb 2022   Prob (F-statistic):          1.46e-216\n",
       "Time:                        20:36:05   Log-Likelihood:                -1208.0\n",
       "No. Observations:                 744   AIC:                             2422.\n",
       "Df Residuals:                     741   BIC:                             2436.\n",
       "Df Model:                           2                                         \n",
       "Covariance Type:                  HC1                                         \n",
       "==============================================================================\n",
       "                 coef    std err          z      P>|z|      [0.025      0.975]\n",
       "------------------------------------------------------------------------------\n",
       "Intercept      2.3613      0.070     33.653      0.000       2.224       2.499\n",
       "FEDFUNDS       0.3903      0.130      3.000      0.003       0.135       0.645\n",
       "lag            0.3386      0.130      2.597      0.009       0.083       0.594\n",
       "==============================================================================\n",
       "Omnibus:                        2.265   Durbin-Watson:                   0.084\n",
       "Prob(Omnibus):                  0.322   Jarque-Bera (JB):                2.327\n",
       "Skew:                           0.114   Prob(JB):                        0.312\n",
       "Kurtosis:                       2.848   Cond. No.                         24.1\n",
       "==============================================================================\n",
       "\n",
       "Notes:\n",
       "[1] Standard Errors are heteroscedasticity robust (HC1)\n",
       "\"\"\""
      ]
     },
     "execution_count": 31,
     "metadata": {},
     "output_type": "execute_result"
    }
   ],
   "source": [
    "mod4=smf.ols(formula='GS10~FEDFUNDS+lag',data=new_df2).fit(cov_type = 'HC1')\n",
    "mod4.summary()"
   ]
  },
  {
   "cell_type": "markdown",
   "id": "bfb6f139",
   "metadata": {},
   "source": [
    "### (c)"
   ]
  },
  {
   "cell_type": "code",
   "execution_count": null,
   "id": "33a9c3d7",
   "metadata": {},
   "outputs": [],
   "source": [
    "#test theory that b0 = 1 for GS1 and GS10"
   ]
  },
  {
   "cell_type": "code",
   "execution_count": 62,
   "id": "88b15372",
   "metadata": {},
   "outputs": [
    {
     "data": {
      "text/plain": [
       "1.9631619315801032"
      ]
     },
     "execution_count": 62,
     "metadata": {},
     "output_type": "execute_result"
    }
   ],
   "source": [
    "import scipy.stats                                                                              \n",
    "                                                                                       \n",
    "alpha = 0.05                                                                                    \n",
    "t_stat = scipy.stats.t.ppf(1 - alpha / 2, len(new_df) - 2)    \n",
    "t_stat"
   ]
  },
  {
   "cell_type": "code",
   "execution_count": 57,
   "id": "ef8da59c",
   "metadata": {},
   "outputs": [
    {
     "data": {
      "text/plain": [
       "-0.5072469426202761"
      ]
     },
     "execution_count": 57,
     "metadata": {},
     "output_type": "execute_result"
    }
   ],
   "source": [
    "mod1_test = (mod1.params[1] - 1) / 0.007/(len(new_df))**(1/2)\n",
    "mod1_test"
   ]
  },
  {
   "cell_type": "code",
   "execution_count": 63,
   "id": "fe1b2564",
   "metadata": {},
   "outputs": [
    {
     "data": {
      "text/plain": [
       "-0.8381760289335837"
      ]
     },
     "execution_count": 63,
     "metadata": {},
     "output_type": "execute_result"
    }
   ],
   "source": [
    "mod2_test = (mod2.params[1] - 1) / 0.012/(len(new_df))**(1/2)\n",
    "mod2_test"
   ]
  },
  {
   "cell_type": "markdown",
   "id": "09359ebd",
   "metadata": {},
   "source": [
    "In both cases the null hypothesis fails to be rejected, stating that there is sufficient evidence to prove that b0 = 1. For model 1 (GS1), the calculated t statistic is -.51 which is not less than -1.96. For model 1 (GS10), the calculated t statistic is -.84 which is not less than -1.96. b0 = 1 means that the effect of fed funds on GS1 and GS10 is a permanent shock. "
   ]
  },
  {
   "cell_type": "markdown",
   "id": "c0b5efc8",
   "metadata": {},
   "source": [
    "### (d) "
   ]
  },
  {
   "cell_type": "code",
   "execution_count": null,
   "id": "86c98e56",
   "metadata": {},
   "outputs": [],
   "source": [
    "#model 2 - is coefficient b1 statistically significant? Instead of b2 on HW"
   ]
  },
  {
   "cell_type": "markdown",
   "id": "4508392c",
   "metadata": {},
   "source": [
    "b1 is not statistically significant for model 2 when regressing GS1 on the fed funds rate and the lag rate. This is because the p value is .656 which is greater than .05. \n",
    "\n",
    "b1 is statistically significant for model 2 when regressing GS10 on the fed funds rate and the lag rate. This is because the p value is .009 which is less than .05. "
   ]
  },
  {
   "cell_type": "markdown",
   "id": "13f0eb2e",
   "metadata": {},
   "source": [
    "### (e)"
   ]
  },
  {
   "cell_type": "code",
   "execution_count": 93,
   "id": "f4c900c2",
   "metadata": {},
   "outputs": [
    {
     "data": {
      "text/plain": [
       "-21.630001033306524"
      ]
     },
     "execution_count": 93,
     "metadata": {},
     "output_type": "execute_result"
    }
   ],
   "source": [
    "#bo + b1 = 1\n",
    "mod3_t_stat = (mod3.params[1] + mod3.params[2] - 1) / (mod3.bse[1]**2/len(new_df) + mod3.bse[2]**2/len(new_df))**(1/2)\n",
    "mod3_t_stat"
   ]
  },
  {
   "cell_type": "code",
   "execution_count": 86,
   "id": "7e5f3ccf",
   "metadata": {},
   "outputs": [
    {
     "data": {
      "text/plain": [
       "0.33864216953658177"
      ]
     },
     "execution_count": 86,
     "metadata": {},
     "output_type": "execute_result"
    }
   ],
   "source": [
    "mod4.params[2]"
   ]
  },
  {
   "cell_type": "code",
   "execution_count": 95,
   "id": "7e25a065",
   "metadata": {},
   "outputs": [
    {
     "data": {
      "text/plain": [
       "4.9896181385905406e-80"
      ]
     },
     "execution_count": 95,
     "metadata": {},
     "output_type": "execute_result"
    }
   ],
   "source": [
    "mod3_pvalue = scipy.stats.t.pdf(mod3_t_stat, len(new_df)-2)\n",
    "mod3_pvalue"
   ]
  },
  {
   "cell_type": "code",
   "execution_count": 94,
   "id": "358acae7",
   "metadata": {},
   "outputs": [
    {
     "data": {
      "text/plain": [
       "-40.165402228751894"
      ]
     },
     "execution_count": 94,
     "metadata": {},
     "output_type": "execute_result"
    }
   ],
   "source": [
    "#bo + b1 = 1\n",
    "mod4_t_stat = (mod4.params[1] + mod4.params[2] - 1) / (mod4.bse[1]**2/len(new_df) + mod4.bse[2]**2/len(new_df))**(1/2)\n",
    "mod4_t_stat"
   ]
  },
  {
   "cell_type": "code",
   "execution_count": 96,
   "id": "4e668878",
   "metadata": {},
   "outputs": [
    {
     "data": {
      "text/plain": [
       "1.3854794048390529e-187"
      ]
     },
     "execution_count": 96,
     "metadata": {},
     "output_type": "execute_result"
    }
   ],
   "source": [
    "mod4_pvalue = scipy.stats.t.pdf(mod4_t_stat, len(new_df)-2)\n",
    "mod4_pvalue"
   ]
  }
 ],
 "metadata": {
  "kernelspec": {
   "display_name": "Python 3",
   "language": "python",
   "name": "python3"
  },
  "language_info": {
   "codemirror_mode": {
    "name": "ipython",
    "version": 3
   },
   "file_extension": ".py",
   "mimetype": "text/x-python",
   "name": "python",
   "nbconvert_exporter": "python",
   "pygments_lexer": "ipython3",
   "version": "3.8.8"
  }
 },
 "nbformat": 4,
 "nbformat_minor": 5
}
